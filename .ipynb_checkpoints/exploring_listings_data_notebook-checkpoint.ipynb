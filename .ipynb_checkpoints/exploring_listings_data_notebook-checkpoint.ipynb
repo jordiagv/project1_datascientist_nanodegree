{
 "cells": [
  {
   "cell_type": "code",
   "execution_count": 1,
   "metadata": {},
   "outputs": [],
   "source": [
    "import pandas as pd\n",
    "import numpy as np"
   ]
  },
  {
   "cell_type": "code",
   "execution_count": 35,
   "metadata": {},
   "outputs": [],
   "source": [
    "pd.set_option('max_columns', None)"
   ]
  },
  {
   "cell_type": "code",
   "execution_count": 2,
   "metadata": {},
   "outputs": [],
   "source": [
    "# Open listings data\n",
    "boston_listings = pd.read_csv(\"boston_airbnb_data/listings.csv\")\n",
    "seattle_listings = pd.read_csv(\"seattle_airbnb_data/listings.csv\")"
   ]
  },
  {
   "cell_type": "code",
   "execution_count": 3,
   "metadata": {},
   "outputs": [
    {
     "name": "stdout",
     "output_type": "stream",
     "text": [
      "Boston calendar data have 95 columns and 3585 rows and Seattle calendar data have 92 columns and 3818 rows\n"
     ]
    }
   ],
   "source": [
    "# Quick explore of number of rows and columns of calendar data\n",
    "print(\"Boston calendar data have {} columns and {} rows and Seattle calendar data have {} columns and {} rows\".format(str(boston_listings.shape[1]),str(boston_listings.shape[0]),str(seattle_listings.shape[1]),str(seattle_listings.shape[0])))"
   ]
  },
  {
   "cell_type": "markdown",
   "metadata": {},
   "source": [
    "####  Compare both data frames to detect differences and be able to take decisions"
   ]
  },
  {
   "cell_type": "code",
   "execution_count": 17,
   "metadata": {},
   "outputs": [],
   "source": [
    "# Columns and type for boston and seattle listings\n",
    "boston_col_type = boston_listings.dtypes.to_dict()\n",
    "seattle_col_type = seattle_listings.dtypes.to_dict()\n",
    "\n",
    "# Compares columns and columns type to see if they are equivalent or there are differences between them\n",
    "\n",
    "nonshared_columns = []\n",
    "nonshared_types = {}\n",
    "\n",
    "for boston_col, boston_type in boston_col_type.items():\n",
    "    found_indicator = 0\n",
    "    for seattle_col, seattle_type in seattle_col_type.items():\n",
    "        if boston_col == seattle_col and boston_type == seattle_type:\n",
    "            found_indicator = 1\n",
    "            break\n",
    "        elif boston_col == seattle_col and boston_type != seattle_type:\n",
    "            nonshared_types[boston_col] = {\"in_df_boston\":boston_type,\"in_df_seattle\":seattle_type}\n",
    "            found_indicator = 1\n",
    "            break\n",
    "    if found_indicator == 0:\n",
    "        nonshared_columns.append(boston_col)\n",
    "    \n",
    "            "
   ]
  },
  {
   "cell_type": "markdown",
   "metadata": {},
   "source": [
    "##### Explore non-shared columns"
   ]
  },
  {
   "cell_type": "code",
   "execution_count": 18,
   "metadata": {},
   "outputs": [
    {
     "data": {
      "text/plain": [
       "['access', 'interaction', 'house_rules']"
      ]
     },
     "execution_count": 18,
     "metadata": {},
     "output_type": "execute_result"
    }
   ],
   "source": [
    "# Show columns that exist in boston df but not in seattle df\n",
    "nonshared_columns"
   ]
  },
  {
   "cell_type": "code",
   "execution_count": 29,
   "metadata": {},
   "outputs": [
    {
     "data": {
      "text/html": [
       "<div>\n",
       "<style scoped>\n",
       "    .dataframe tbody tr th:only-of-type {\n",
       "        vertical-align: middle;\n",
       "    }\n",
       "\n",
       "    .dataframe tbody tr th {\n",
       "        vertical-align: top;\n",
       "    }\n",
       "\n",
       "    .dataframe thead th {\n",
       "        text-align: right;\n",
       "    }\n",
       "</style>\n",
       "<table border=\"1\" class=\"dataframe\">\n",
       "  <thead>\n",
       "    <tr style=\"text-align: right;\">\n",
       "      <th></th>\n",
       "      <th>access</th>\n",
       "      <th>interaction</th>\n",
       "      <th>house_rules</th>\n",
       "    </tr>\n",
       "  </thead>\n",
       "  <tbody>\n",
       "    <tr>\n",
       "      <th>count</th>\n",
       "      <td>2096</td>\n",
       "      <td>2031</td>\n",
       "      <td>2393</td>\n",
       "    </tr>\n",
       "    <tr>\n",
       "      <th>unique</th>\n",
       "      <td>1762</td>\n",
       "      <td>1617</td>\n",
       "      <td>1928</td>\n",
       "    </tr>\n",
       "    <tr>\n",
       "      <th>top</th>\n",
       "      <td>You have access to the entire apartment, and a...</td>\n",
       "      <td>Need more towels? A restaurant recommendation?...</td>\n",
       "      <td>House Rules 1. Check-in is 4 pm local time. If...</td>\n",
       "    </tr>\n",
       "    <tr>\n",
       "      <th>freq</th>\n",
       "      <td>48</td>\n",
       "      <td>58</td>\n",
       "      <td>44</td>\n",
       "    </tr>\n",
       "  </tbody>\n",
       "</table>\n",
       "</div>"
      ],
      "text/plain": [
       "                                                   access  \\\n",
       "count                                                2096   \n",
       "unique                                               1762   \n",
       "top     You have access to the entire apartment, and a...   \n",
       "freq                                                   48   \n",
       "\n",
       "                                              interaction  \\\n",
       "count                                                2031   \n",
       "unique                                               1617   \n",
       "top     Need more towels? A restaurant recommendation?...   \n",
       "freq                                                   58   \n",
       "\n",
       "                                              house_rules  \n",
       "count                                                2393  \n",
       "unique                                               1928  \n",
       "top     House Rules 1. Check-in is 4 pm local time. If...  \n",
       "freq                                                   44  "
      ]
     },
     "execution_count": 29,
     "metadata": {},
     "output_type": "execute_result"
    }
   ],
   "source": [
    "boston_listings[['access', 'interaction', 'house_rules']].describe()"
   ]
  },
  {
   "cell_type": "markdown",
   "metadata": {},
   "source": [
    "##### Explore columns don't share dtype"
   ]
  },
  {
   "cell_type": "code",
   "execution_count": 30,
   "metadata": {},
   "outputs": [
    {
     "data": {
      "text/plain": [
       "{'host_listings_count': {'in_df_boston': dtype('int64'),\n",
       "  'in_df_seattle': dtype('float64')},\n",
       " 'host_total_listings_count': {'in_df_boston': dtype('int64'),\n",
       "  'in_df_seattle': dtype('float64')},\n",
       " 'neighbourhood_group_cleansed': {'in_df_boston': dtype('float64'),\n",
       "  'in_df_seattle': dtype('O')},\n",
       " 'has_availability': {'in_df_boston': dtype('float64'),\n",
       "  'in_df_seattle': dtype('O')},\n",
       " 'jurisdiction_names': {'in_df_boston': dtype('float64'),\n",
       "  'in_df_seattle': dtype('O')}}"
      ]
     },
     "execution_count": 30,
     "metadata": {},
     "output_type": "execute_result"
    }
   ],
   "source": [
    "# Show columns that exist in both df but they don't share dtype\n",
    "nonshared_types"
   ]
  },
  {
   "cell_type": "code",
   "execution_count": 27,
   "metadata": {},
   "outputs": [
    {
     "data": {
      "text/html": [
       "<div>\n",
       "<style scoped>\n",
       "    .dataframe tbody tr th:only-of-type {\n",
       "        vertical-align: middle;\n",
       "    }\n",
       "\n",
       "    .dataframe tbody tr th {\n",
       "        vertical-align: top;\n",
       "    }\n",
       "\n",
       "    .dataframe thead th {\n",
       "        text-align: right;\n",
       "    }\n",
       "</style>\n",
       "<table border=\"1\" class=\"dataframe\">\n",
       "  <thead>\n",
       "    <tr style=\"text-align: right;\">\n",
       "      <th></th>\n",
       "      <th>neighbourhood_group_cleansed</th>\n",
       "      <th>has_availability</th>\n",
       "      <th>jurisdiction_names</th>\n",
       "    </tr>\n",
       "  </thead>\n",
       "  <tbody>\n",
       "    <tr>\n",
       "      <th>count</th>\n",
       "      <td>0.0</td>\n",
       "      <td>0.0</td>\n",
       "      <td>0.0</td>\n",
       "    </tr>\n",
       "    <tr>\n",
       "      <th>mean</th>\n",
       "      <td>NaN</td>\n",
       "      <td>NaN</td>\n",
       "      <td>NaN</td>\n",
       "    </tr>\n",
       "    <tr>\n",
       "      <th>std</th>\n",
       "      <td>NaN</td>\n",
       "      <td>NaN</td>\n",
       "      <td>NaN</td>\n",
       "    </tr>\n",
       "    <tr>\n",
       "      <th>min</th>\n",
       "      <td>NaN</td>\n",
       "      <td>NaN</td>\n",
       "      <td>NaN</td>\n",
       "    </tr>\n",
       "    <tr>\n",
       "      <th>25%</th>\n",
       "      <td>NaN</td>\n",
       "      <td>NaN</td>\n",
       "      <td>NaN</td>\n",
       "    </tr>\n",
       "    <tr>\n",
       "      <th>50%</th>\n",
       "      <td>NaN</td>\n",
       "      <td>NaN</td>\n",
       "      <td>NaN</td>\n",
       "    </tr>\n",
       "    <tr>\n",
       "      <th>75%</th>\n",
       "      <td>NaN</td>\n",
       "      <td>NaN</td>\n",
       "      <td>NaN</td>\n",
       "    </tr>\n",
       "    <tr>\n",
       "      <th>max</th>\n",
       "      <td>NaN</td>\n",
       "      <td>NaN</td>\n",
       "      <td>NaN</td>\n",
       "    </tr>\n",
       "  </tbody>\n",
       "</table>\n",
       "</div>"
      ],
      "text/plain": [
       "       neighbourhood_group_cleansed  has_availability  jurisdiction_names\n",
       "count                           0.0               0.0                 0.0\n",
       "mean                            NaN               NaN                 NaN\n",
       "std                             NaN               NaN                 NaN\n",
       "min                             NaN               NaN                 NaN\n",
       "25%                             NaN               NaN                 NaN\n",
       "50%                             NaN               NaN                 NaN\n",
       "75%                             NaN               NaN                 NaN\n",
       "max                             NaN               NaN                 NaN"
      ]
     },
     "execution_count": 27,
     "metadata": {},
     "output_type": "execute_result"
    }
   ],
   "source": [
    "boston_listings[[\"neighbourhood_group_cleansed\",\"has_availability\",\"jurisdiction_names\"]].describe()"
   ]
  },
  {
   "cell_type": "code",
   "execution_count": 28,
   "metadata": {},
   "outputs": [
    {
     "data": {
      "text/html": [
       "<div>\n",
       "<style scoped>\n",
       "    .dataframe tbody tr th:only-of-type {\n",
       "        vertical-align: middle;\n",
       "    }\n",
       "\n",
       "    .dataframe tbody tr th {\n",
       "        vertical-align: top;\n",
       "    }\n",
       "\n",
       "    .dataframe thead th {\n",
       "        text-align: right;\n",
       "    }\n",
       "</style>\n",
       "<table border=\"1\" class=\"dataframe\">\n",
       "  <thead>\n",
       "    <tr style=\"text-align: right;\">\n",
       "      <th></th>\n",
       "      <th>neighbourhood_group_cleansed</th>\n",
       "      <th>has_availability</th>\n",
       "      <th>jurisdiction_names</th>\n",
       "    </tr>\n",
       "  </thead>\n",
       "  <tbody>\n",
       "    <tr>\n",
       "      <th>count</th>\n",
       "      <td>3818</td>\n",
       "      <td>3818</td>\n",
       "      <td>3818</td>\n",
       "    </tr>\n",
       "    <tr>\n",
       "      <th>unique</th>\n",
       "      <td>17</td>\n",
       "      <td>1</td>\n",
       "      <td>1</td>\n",
       "    </tr>\n",
       "    <tr>\n",
       "      <th>top</th>\n",
       "      <td>Other neighborhoods</td>\n",
       "      <td>t</td>\n",
       "      <td>WASHINGTON</td>\n",
       "    </tr>\n",
       "    <tr>\n",
       "      <th>freq</th>\n",
       "      <td>794</td>\n",
       "      <td>3818</td>\n",
       "      <td>3818</td>\n",
       "    </tr>\n",
       "  </tbody>\n",
       "</table>\n",
       "</div>"
      ],
      "text/plain": [
       "       neighbourhood_group_cleansed has_availability jurisdiction_names\n",
       "count                          3818             3818               3818\n",
       "unique                           17                1                  1\n",
       "top             Other neighborhoods                t         WASHINGTON\n",
       "freq                            794             3818               3818"
      ]
     },
     "execution_count": 28,
     "metadata": {},
     "output_type": "execute_result"
    }
   ],
   "source": [
    "seattle_listings[[\"neighbourhood_group_cleansed\",\"has_availability\",\"jurisdiction_names\"]].describe()"
   ]
  },
  {
   "cell_type": "markdown",
   "metadata": {},
   "source": [
    "##### Working with data from Boston and Seattle\n",
    "\n",
    "Earasing columns ['access', 'interaction', 'house_rules'] from boston listing dataframe we can have the same "
   ]
  },
  {
   "cell_type": "code",
   "execution_count": 44,
   "metadata": {},
   "outputs": [],
   "source": [
    "# Drop non-shared columns\n",
    "udpate_boston_listings = boston_listings.drop( ['access', 'interaction', 'house_rules'], axis=1)"
   ]
  },
  {
   "cell_type": "code",
   "execution_count": 59,
   "metadata": {},
   "outputs": [],
   "source": [
    "# Gets boston and seattle columns names in a individual list\n",
    "boston_cols = list(udpate_boston_listings.columns)\n",
    "seattle_cols = list(seattle_listings.columns)"
   ]
  },
  {
   "cell_type": "code",
   "execution_count": 74,
   "metadata": {},
   "outputs": [
    {
     "name": "stdout",
     "output_type": "stream",
     "text": [
      "Number of columns in boston df: 92 and number of columns in seattle df: 92\n"
     ]
    }
   ],
   "source": [
    "# Check if indeed both df already have the same number of columns\n",
    "print(\"Number of columns in boston df: {} and number of columns in seattle df: {}\".format(len(boston_cols),len(seattle_cols)))"
   ]
  },
  {
   "cell_type": "code",
   "execution_count": 73,
   "metadata": {},
   "outputs": [
    {
     "name": "stdout",
     "output_type": "stream",
     "text": [
      "¿Columns have the same position in both df? Yes\n"
     ]
    }
   ],
   "source": [
    "# Check columns have the same position in both df\n",
    "all_same_position = \"Yes\"\n",
    "for position in range(len(boston_cols)):\n",
    "    if boston_cols[position] != seattle_cols[position]:\n",
    "        all_same_position = \"No\"\n",
    "\n",
    "print(\"¿Columns have the same position in both df? {}\".format(all_same_position))"
   ]
  },
  {
   "cell_type": "markdown",
   "metadata": {},
   "source": [
    "After the previous analysis we can conclude that it is useful to concat both dataframes for the following reasons:\n",
    "\n",
    "1. Dataframes do not share only 3 columns that do not contain useful information for our case\n",
    "2. Dropping non-shared columns leave us with two dataframes with the same columns in the same position\n",
    "3. Five columns do no share type, two due to difference in the interpretation between int and float, which is easily solved, and three because boston dataframe only has null values in those columns\n",
    "4. Concatenating the data from Boston and Seattle gives us a larger sample in which the city becomes another variable to analyze."
   ]
  },
  {
   "cell_type": "code",
   "execution_count": null,
   "metadata": {},
   "outputs": [],
   "source": []
  }
 ],
 "metadata": {
  "kernelspec": {
   "display_name": "Python 3",
   "language": "python",
   "name": "python3"
  },
  "language_info": {
   "codemirror_mode": {
    "name": "ipython",
    "version": 3
   },
   "file_extension": ".py",
   "mimetype": "text/x-python",
   "name": "python",
   "nbconvert_exporter": "python",
   "pygments_lexer": "ipython3",
   "version": "3.7.4"
  }
 },
 "nbformat": 4,
 "nbformat_minor": 2
}
