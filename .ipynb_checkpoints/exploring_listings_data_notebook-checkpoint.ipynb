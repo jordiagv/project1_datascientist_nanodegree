{
 "cells": [
  {
   "cell_type": "code",
   "execution_count": 1,
   "metadata": {},
   "outputs": [],
   "source": [
    "import pandas as pd\n",
    "import numpy as np"
   ]
  },
  {
   "cell_type": "code",
   "execution_count": 2,
   "metadata": {},
   "outputs": [],
   "source": [
    "# Open listings data\n",
    "boston_listings = pd.read_csv(\"boston_airbnb_data/listings.csv\")\n",
    "seattle_listings = pd.read_csv(\"seattle_airbnb_data/listings.csv\")"
   ]
  },
  {
   "cell_type": "code",
   "execution_count": 3,
   "metadata": {},
   "outputs": [
    {
     "name": "stdout",
     "output_type": "stream",
     "text": [
      "Boston calendar data have 95 columns and 3585 rows and Seattle calendar data have 92 columns and 3818 rows\n"
     ]
    }
   ],
   "source": [
    "# Quick explore of number of rows and columns of calendar data\n",
    "print(\"Boston calendar data have {} columns and {} rows and Seattle calendar data have {} columns and {} rows\".format(str(boston_listings.shape[1]),str(boston_listings.shape[0]),str(seattle_listings.shape[1]),str(seattle_listings.shape[0])))"
   ]
  },
  {
   "cell_type": "code",
   "execution_count": 16,
   "metadata": {},
   "outputs": [],
   "source": [
    "# Columns and type for boston and seattle listings\n",
    "boston_col_type = boston_listings.dtypes.to_dict()\n",
    "seattle_col_type = seattle_listings.dtypes.to_dict()"
   ]
  },
  {
   "cell_type": "code",
   "execution_count": 17,
   "metadata": {},
   "outputs": [],
   "source": [
    "# Compares columns and columns type to see if they are equivalent or there are differences between them\n",
    "\n",
    "nonshared_columns = []\n",
    "nonshared_types = {}\n",
    "\n",
    "for boston_col, boston_type in boston_col_type.items():\n",
    "    found_indicator = 0\n",
    "    for seattle_col, seattle_type in seattle_col_type.items():\n",
    "        if boston_col == seattle_col and boston_type == seattle_type:\n",
    "            found_indicator = 1\n",
    "            break\n",
    "        elif boston_col == seattle_col and boston_type != seattle_type:\n",
    "            nonshared_types[boston_col] = {\"in_df_boston\":boston_type,\"in_df_seattle\":seattle_type}\n",
    "            found_indicator = 1\n",
    "            break\n",
    "    if found_indicator == 0:\n",
    "        nonshared_columns.append(boston_col)\n",
    "    \n",
    "            "
   ]
  },
  {
   "cell_type": "code",
   "execution_count": 18,
   "metadata": {},
   "outputs": [
    {
     "data": {
      "text/plain": [
       "['access', 'interaction', 'house_rules']"
      ]
     },
     "execution_count": 18,
     "metadata": {},
     "output_type": "execute_result"
    }
   ],
   "source": [
    "# Show columns that exist in boston df but not in seattle df\n",
    "nonshared_columns"
   ]
  },
  {
   "cell_type": "code",
   "execution_count": 19,
   "metadata": {},
   "outputs": [
    {
     "data": {
      "text/plain": [
       "{'host_listings_count': {'in_df_boston': dtype('int64'),\n",
       "  'in_df_seattle': dtype('float64')},\n",
       " 'host_total_listings_count': {'in_df_boston': dtype('int64'),\n",
       "  'in_df_seattle': dtype('float64')},\n",
       " 'neighbourhood_group_cleansed': {'in_df_boston': dtype('float64'),\n",
       "  'in_df_seattle': dtype('O')},\n",
       " 'has_availability': {'in_df_boston': dtype('float64'),\n",
       "  'in_df_seattle': dtype('O')},\n",
       " 'jurisdiction_names': {'in_df_boston': dtype('float64'),\n",
       "  'in_df_seattle': dtype('O')}}"
      ]
     },
     "execution_count": 19,
     "metadata": {},
     "output_type": "execute_result"
    }
   ],
   "source": [
    "# Show columns that exist in both df but they don't share dtype\n",
    "nonshared_types"
   ]
  },
  {
   "cell_type": "code",
   "execution_count": 25,
   "metadata": {},
   "outputs": [
    {
     "data": {
      "text/plain": [
       "count    0.0\n",
       "mean     NaN\n",
       "std      NaN\n",
       "min      NaN\n",
       "25%      NaN\n",
       "50%      NaN\n",
       "75%      NaN\n",
       "max      NaN\n",
       "Name: neighbourhood_group_cleansed, dtype: float64"
      ]
     },
     "execution_count": 25,
     "metadata": {},
     "output_type": "execute_result"
    }
   ],
   "source": [
    "boston_listings[\"neighbourhood_group_cleansed\"].describe()"
   ]
  },
  {
   "cell_type": "code",
   "execution_count": 23,
   "metadata": {},
   "outputs": [
    {
     "data": {
      "text/plain": [
       "0                Queen Anne\n",
       "1                Queen Anne\n",
       "2                Queen Anne\n",
       "3                Queen Anne\n",
       "4                Queen Anne\n",
       "               ...         \n",
       "3813    Other neighborhoods\n",
       "3814           Capitol Hill\n",
       "3815         Rainier Valley\n",
       "3816           Capitol Hill\n",
       "3817             Queen Anne\n",
       "Name: neighbourhood_group_cleansed, Length: 3818, dtype: object"
      ]
     },
     "execution_count": 23,
     "metadata": {},
     "output_type": "execute_result"
    }
   ],
   "source": [
    "seattle_listings[\"neighbourhood_group_cleansed\"]"
   ]
  },
  {
   "cell_type": "code",
   "execution_count": null,
   "metadata": {},
   "outputs": [],
   "source": []
  }
 ],
 "metadata": {
  "kernelspec": {
   "display_name": "Python 3",
   "language": "python",
   "name": "python3"
  },
  "language_info": {
   "codemirror_mode": {
    "name": "ipython",
    "version": 3
   },
   "file_extension": ".py",
   "mimetype": "text/x-python",
   "name": "python",
   "nbconvert_exporter": "python",
   "pygments_lexer": "ipython3",
   "version": "3.7.4"
  }
 },
 "nbformat": 4,
 "nbformat_minor": 2
}
