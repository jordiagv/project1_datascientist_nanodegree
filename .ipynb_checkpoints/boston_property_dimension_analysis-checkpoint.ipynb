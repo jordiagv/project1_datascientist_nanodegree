{
 "cells": [
  {
   "cell_type": "markdown",
   "metadata": {},
   "source": [
    "### Titulo"
   ]
  },
  {
   "cell_type": "markdown",
   "metadata": {},
   "source": [
    "#### explicacion despues de aplicar los primeros dos pasos del metodo crisp, entender el modelo airbnb, navegr por pagna y ser usuario, se analizo la data disponible y se plantearon las siguientes preguntas"
   ]
  },
  {
   "cell_type": "markdown",
   "metadata": {},
   "source": [
    "1. que influencia tiene la ubicacion en la ocupacion, es mejor indicador el codigo postal o regiones creados en base a clustering\n",
    "2. que influencia tiene el host y el tipo de lugar\n",
    "3. que influencia las reviews\n",
    "\n",
    "en general encontrar las variables criticas para aumentar la ocupacion de una propiedad agrupadas en ubicación, host, place, y reviews"
   ]
  },
  {
   "cell_type": "code",
   "execution_count": 1,
   "metadata": {},
   "outputs": [],
   "source": [
    "import pandas as pd\n",
    "import numpy as np\n",
    "import matplotlib.pyplot as plt\n",
    "# Import train_test_split function\n",
    "from sklearn.model_selection import train_test_split\n",
    "#Import Random Forest Model classifier\n",
    "from sklearn.ensemble import RandomForestClassifier\n",
    "#Import scikit-learn metrics module for accuracy calculation\n",
    "from sklearn import metrics\n",
    "from sklearn.metrics import mean_squared_error\n",
    "import seaborn as sns\n",
    "pd.set_option('max_columns', None)\n",
    "%matplotlib inline"
   ]
  },
  {
   "cell_type": "markdown",
   "metadata": {},
   "source": [
    "open and consolidate data"
   ]
  },
  {
   "cell_type": "code",
   "execution_count": 2,
   "metadata": {},
   "outputs": [],
   "source": [
    "# Open calendar and listings data\n",
    "boston_calendar = pd.read_csv(\"boston_airbnb_data/calendar.csv\")\n",
    "boston_listings = pd.read_csv(\"boston_airbnb_data/listings.csv\")"
   ]
  },
  {
   "cell_type": "code",
   "execution_count": 3,
   "metadata": {},
   "outputs": [],
   "source": [
    "# Drop price column because we don't need it for our analysis\n",
    "boston_calendar = boston_calendar.drop('price', axis=1)\n",
    "# Get one column for each variable on for t(true) and one for f(false)\n",
    "boston_calendar = pd.concat([boston_calendar.drop('available', axis=1), pd.get_dummies(boston_calendar['available'], prefix='available', prefix_sep='_')], axis=1)\n",
    "# Group by each list id by adding the number of times each list_id is available and unavailable\n",
    "boston_occupation = boston_calendar.groupby(\"listing_id\").sum()\n",
    "# Add a column with the occupancy percentage, which is the number of days occupied divided by the total number of days registered\n",
    "boston_occupation[\"occupation_percentage\"] = boston_occupation[\"available_f\"]*100/(boston_occupation[\"available_f\"]+boston_occupation[\"available_t\"])\n",
    "# Transform the output variable occupation_percentage that is continuous to categorical\n",
    "# Define help function\n",
    "def percentage_to_categorical(value):\n",
    "    value = float(value)\n",
    "    if value <= 100 and value >= 80:\n",
    "        return 5\n",
    "    elif value < 80 and value >= 60:\n",
    "        return 4\n",
    "    elif value < 60 and value >= 40:\n",
    "        return 3\n",
    "    elif value < 40 and value >= 20:\n",
    "        return 2\n",
    "    elif value < 20 and value >= 0:\n",
    "        return 1\n",
    "# Apply help function\n",
    "boston_occupation[\"occupation_percentage\"] = boston_occupation[\"occupation_percentage\"].apply(percentage_to_categorical)\n",
    "# Drop columns will no longer be used\n",
    "boston_occupation = boston_occupation.drop([\"available_f\",\"available_t\"], axis=1)"
   ]
  },
  {
   "cell_type": "code",
   "execution_count": 4,
   "metadata": {},
   "outputs": [],
   "source": [
    "# Create a consolidate dataframe with all the airbnb data and the categoric\n",
    "df = pd.merge(boston_listings, boston_occupation,left_on=\"id\",right_on=\"listing_id\", how=\"inner\")"
   ]
  },
  {
   "cell_type": "markdown",
   "metadata": {},
   "source": [
    "Nan analysis"
   ]
  },
  {
   "cell_type": "code",
   "execution_count": 5,
   "metadata": {},
   "outputs": [],
   "source": [
    "# Create a dataframe with the column name and the percent of missing values per column\n",
    "percent_missing = df.isnull().sum()*100/len(df)\n",
    "\n",
    "df_nullrows_percent = pd.DataFrame({'column_name': df.columns,\n",
    "                                 'percent_missing': percent_missing}).reset_index(drop=True)"
   ]
  },
  {
   "cell_type": "code",
   "execution_count": 145,
   "metadata": {},
   "outputs": [
    {
     "data": {
      "text/html": [
       "<div>\n",
       "<style scoped>\n",
       "    .dataframe tbody tr th:only-of-type {\n",
       "        vertical-align: middle;\n",
       "    }\n",
       "\n",
       "    .dataframe tbody tr th {\n",
       "        vertical-align: top;\n",
       "    }\n",
       "\n",
       "    .dataframe thead th {\n",
       "        text-align: right;\n",
       "    }\n",
       "</style>\n",
       "<table border=\"1\" class=\"dataframe\">\n",
       "  <thead>\n",
       "    <tr style=\"text-align: right;\">\n",
       "      <th></th>\n",
       "      <th>column_name</th>\n",
       "      <th>percent_missing</th>\n",
       "    </tr>\n",
       "  </thead>\n",
       "  <tbody>\n",
       "    <tr>\n",
       "      <th>39</th>\n",
       "      <td>neighbourhood_cleansed</td>\n",
       "      <td>0.0</td>\n",
       "    </tr>\n",
       "  </tbody>\n",
       "</table>\n",
       "</div>"
      ],
      "text/plain": [
       "               column_name  percent_missing\n",
       "39  neighbourhood_cleansed              0.0"
      ]
     },
     "execution_count": 145,
     "metadata": {},
     "output_type": "execute_result"
    }
   ],
   "source": [
    "df_nullrows_percent[df_nullrows_percent[\"column_name\"] == \"neighbourhood_cleansed\"]"
   ]
  },
  {
   "cell_type": "code",
   "execution_count": 6,
   "metadata": {},
   "outputs": [
    {
     "data": {
      "text/plain": [
       "(-0.101, 10.0]    62\n",
       "(10.0, 20.0]       7\n",
       "(20.0, 30.0]      11\n",
       "(30.0, 40.0]       5\n",
       "(40.0, 50.0]       2\n",
       "(50.0, 60.0]       1\n",
       "(60.0, 70.0]       1\n",
       "(70.0, 80.0]       2\n",
       "(80.0, 90.0]       0\n",
       "(90.0, 100.0]      5\n",
       "Name: percent_missing, dtype: int64"
      ]
     },
     "execution_count": 6,
     "metadata": {},
     "output_type": "execute_result"
    }
   ],
   "source": [
    "# Number of columns per range of percent missing values\n",
    "df_nullrows_percent[\"percent_missing\"].value_counts(bins=10, sort=False)"
   ]
  },
  {
   "cell_type": "code",
   "execution_count": 7,
   "metadata": {},
   "outputs": [
    {
     "data": {
      "text/plain": [
       "array([[<matplotlib.axes._subplots.AxesSubplot object at 0x12BAE130>]],\n",
       "      dtype=object)"
      ]
     },
     "execution_count": 7,
     "metadata": {},
     "output_type": "execute_result"
    },
    {
     "data": {
      "image/png": "[encoded data removed]",
      "text/plain": [
       "<Figure size 432x288 with 1 Axes>"
      ]
     },
     "metadata": {
      "needs_background": "light"
     },
     "output_type": "display_data"
    }
   ],
   "source": [
    "# Histogram of percent missing values\n",
    "df_nullrows_percent.hist()"
   ]
  },
  {
   "cell_type": "markdown",
   "metadata": {},
   "source": [
    "80 of 96 columns (83.3%) have less than 30% of their values miss and 62 of 96 columbs (64.58%) have less than 10% of their value miss. This makes it tempting to want to remove the columns with less than 10% of their values miss, but we do that we will miss all the columns related to reviews, so we are going to drop columns with mora than 30% of their values miss."
   ]
  },
  {
   "cell_type": "code",
   "execution_count": 8,
   "metadata": {},
   "outputs": [],
   "source": [
    "# Obtain the columns name that have less than 30% of their values miss\n",
    "columns_lessthan30 = df_nullrows_percent[df_nullrows_percent[\"percent_missing\"]<30][\"column_name\"].values.tolist()\n",
    "# Filter the dataframe to have only those columns\n",
    "df = df[columns_lessthan30]"
   ]
  },
  {
   "cell_type": "markdown",
   "metadata": {},
   "source": [
    "en base a nuestro plantamiento incial de dividir en 3 dimesiones el analisis vamos a dividr nuestra data en cada una de estas dimensiones con sus correspondientes columnas para limpiarlas y observar la exactitud del modelo de forma individual.\n",
    "\n",
    "dimensiones= host,property, reviews"
   ]
  },
  {
   "cell_type": "code",
   "execution_count": 9,
   "metadata": {
    "scrolled": true
   },
   "outputs": [
    {
     "data": {
      "text/plain": [
       "Index(['id', 'listing_url', 'scrape_id', 'last_scraped', 'name', 'summary',\n",
       "       'space', 'description', 'experiences_offered', 'thumbnail_url',\n",
       "       'medium_url', 'picture_url', 'xl_picture_url', 'host_id', 'host_url',\n",
       "       'host_name', 'host_since', 'host_location', 'host_response_time',\n",
       "       'host_response_rate', 'host_acceptance_rate', 'host_is_superhost',\n",
       "       'host_thumbnail_url', 'host_picture_url', 'host_neighbourhood',\n",
       "       'host_listings_count', 'host_total_listings_count',\n",
       "       'host_verifications', 'host_has_profile_pic', 'host_identity_verified',\n",
       "       'street', 'neighbourhood', 'neighbourhood_cleansed', 'city', 'state',\n",
       "       'zipcode', 'market', 'smart_location', 'country_code', 'country',\n",
       "       'latitude', 'longitude', 'is_location_exact', 'property_type',\n",
       "       'room_type', 'accommodates', 'bathrooms', 'bedrooms', 'beds',\n",
       "       'bed_type', 'amenities', 'price', 'guests_included', 'extra_people',\n",
       "       'minimum_nights', 'maximum_nights', 'calendar_updated',\n",
       "       'availability_30', 'availability_60', 'availability_90',\n",
       "       'availability_365', 'calendar_last_scraped', 'number_of_reviews',\n",
       "       'first_review', 'last_review', 'review_scores_rating',\n",
       "       'review_scores_accuracy', 'review_scores_cleanliness',\n",
       "       'review_scores_checkin', 'review_scores_communication',\n",
       "       'review_scores_location', 'review_scores_value', 'requires_license',\n",
       "       'instant_bookable', 'cancellation_policy',\n",
       "       'require_guest_profile_picture', 'require_guest_phone_verification',\n",
       "       'calculated_host_listings_count', 'reviews_per_month',\n",
       "       'occupation_percentage'],\n",
       "      dtype='object')"
      ]
     },
     "execution_count": 9,
     "metadata": {},
     "output_type": "execute_result"
    }
   ],
   "source": [
    "df.columns"
   ]
  },
  {
   "cell_type": "markdown",
   "metadata": {},
   "source": [
    "#### Select property dimension columns"
   ]
  },
  {
   "cell_type": "code",
   "execution_count": 146,
   "metadata": {},
   "outputs": [],
   "source": [
    "property_columns = [\"occupation_percentage\",\"id\",\"name\",\"neighbourhood_cleansed\",\"city\",\"zipcode\",\"latitude\",\"longitude\",\"property_type\",\n",
    "                    \"room_type\",\"accommodates\",\"bathrooms\",\"bedrooms\",\"beds\",\"bed_type\",\"amenities\",\"price\",\n",
    "                    \"guests_included\",\"extra_people\",\"minimum_nights\",\"maximum_nights\",\"requires_license\",\"instant_bookable\",\"cancellation_policy\",\n",
    "                   \"require_guest_profile_picture\",\"require_guest_phone_verification\"]"
   ]
  },
  {
   "cell_type": "code",
   "execution_count": 147,
   "metadata": {},
   "outputs": [],
   "source": [
    "df_property = df[property_columns]"
   ]
  },
  {
   "cell_type": "markdown",
   "metadata": {},
   "source": [
    "Host dimension analysis, we have multiple properties per host, so we will group the data by host to see what atributes makes a diferrence\n",
    "\n",
    "-For the price and extra people columns, the dollar sign must be extracted and transform the value to float.\n",
    "\n",
    "-The city column will be filtered to leave only the \"Boston\" values and and then removed\n",
    "\n",
    "-For amenities the function get_dummies_strlist will be applied, which was specially made for these cases\n",
    "\n",
    "-For the columns with coordinates, they will be left as continuous values for one test and for another test, a cluster type algorithm will be applied to convert them into categoricals.\n",
    "\n",
    "-The other columns can be processed by the get_dummies function"
   ]
  },
  {
   "cell_type": "code",
   "execution_count": 148,
   "metadata": {},
   "outputs": [],
   "source": [
    "df_property = df_property[df_property[\"city\"]==\"Boston\"]\n",
    "df_property = df_property.drop(\"city\",axis=1)"
   ]
  },
  {
   "cell_type": "code",
   "execution_count": 149,
   "metadata": {},
   "outputs": [],
   "source": [
    "# eliminamos los valores con nan porque ahorita no nos interesan y sin pocos, excepcion response time se podria promediar por\n",
    "# host pero por el momento los eliminamos para seguir avanzando y pulir adelante\n",
    "df_property = df_property.dropna()"
   ]
  },
  {
   "cell_type": "code",
   "execution_count": 150,
   "metadata": {},
   "outputs": [],
   "source": [
    "# modifica columna price\n",
    "df_property['price'] = df_property['price'].str.replace('$', '', regex=False)\n",
    "df_property['price'] = df_property['price'].str.replace(',', '', regex=False)\n",
    "df_property['price'] = df_property['price'].astype(float)\n",
    "# modifica columna extra people\n",
    "df_property['extra_people'] = df_property['extra_people'].str.replace('$', '', regex=False)\n",
    "df_property['extra_people'] = df_property['extra_people'].str.replace(',', '', regex=False)\n",
    "df_property['extra_people'] = df_property['extra_people'].astype(float)"
   ]
  },
  {
   "cell_type": "code",
   "execution_count": 151,
   "metadata": {},
   "outputs": [],
   "source": [
    "# Example using zip code as location variable, coordinates as continuous variables and not using amenities"
   ]
  },
  {
   "cell_type": "code",
   "execution_count": 159,
   "metadata": {},
   "outputs": [],
   "source": [
    "df_ids = df_property[[\"id\",\"name\"]]\n",
    "df_property_example1 = df_property.drop([\"id\",\"name\",\"amenities\",\"neighbourhood_cleansed\",\"latitude\",\"longitude\"],axis=1)"
   ]
  },
  {
   "cell_type": "code",
   "execution_count": 160,
   "metadata": {},
   "outputs": [],
   "source": [
    "# Create dummi variables for the other categorical columns\n",
    "cat_vars = df_property_example1.select_dtypes(include=['object']).copy().columns\n",
    "for var in  cat_vars:\n",
    "    # for each cat add dummy var, drop original column\n",
    "    df_property_example1 = pd.concat([df_property_example1.drop(var, axis=1), pd.get_dummies(df_property_example1[var],prefix=var, prefix_sep='_', drop_first=True)], axis=1)"
   ]
  },
  {
   "cell_type": "code",
   "execution_count": 161,
   "metadata": {},
   "outputs": [],
   "source": [
    "#Split data into an X matrix and a response vector y\n",
    "y = df_property_example1['occupation_percentage']\n",
    "x = df_property_example1.drop('occupation_percentage', axis=1)\n",
    "\n",
    "# Split dataset into training set and test set\n",
    "x_train, x_test, y_train, y_test = train_test_split(x, y, test_size=0.3)"
   ]
  },
  {
   "cell_type": "code",
   "execution_count": 162,
   "metadata": {},
   "outputs": [],
   "source": [
    "#Create a Gaussian Classifier\n",
    "rfc=RandomForestClassifier(n_estimators=500)\n",
    "\n",
    "#Train the model using the training sets y_pred=clf.predict(X_test)\n",
    "rfc.fit(x_train,y_train)\n",
    "\n",
    "y_pred=rfc.predict(x_test)"
   ]
  },
  {
   "cell_type": "code",
   "execution_count": 163,
   "metadata": {},
   "outputs": [
    {
     "name": "stdout",
     "output_type": "stream",
     "text": [
      "Accuracy: 0.5381526104417671\n"
     ]
    }
   ],
   "source": [
    "print(\"Accuracy:\",metrics.accuracy_score(y_test, y_pred))"
   ]
  },
  {
   "cell_type": "code",
   "execution_count": 164,
   "metadata": {},
   "outputs": [],
   "source": [
    "feature_importance = pd.Series(rfc.feature_importances_,index=list(x.columns)).sort_values(ascending=False)"
   ]
  },
  {
   "cell_type": "code",
   "execution_count": 165,
   "metadata": {},
   "outputs": [
    {
     "data": {
      "text/plain": [
       "{'price': 0.1715462492274118,\n",
       " 'minimum_nights': 0.07585138077089748,\n",
       " 'accommodates': 0.06852939793427569,\n",
       " 'maximum_nights': 0.06565273830774863,\n",
       " 'extra_people': 0.06554583085084478,\n",
       " 'guests_included': 0.04311392866795352,\n",
       " 'beds': 0.03829462717702254,\n",
       " 'bedrooms': 0.03452153011310858,\n",
       " 'bathrooms': 0.032055012933702935,\n",
       " 'cancellation_policy_strict': 0.029230630689631738,\n",
       " 'instant_bookable_t': 0.02571697370844737,\n",
       " 'cancellation_policy_moderate': 0.024043166308429415,\n",
       " 'room_type_Private room': 0.018928472905898528,\n",
       " 'property_type_House': 0.018370109901599565,\n",
       " 'zipcode_02116': 0.0176020550310884,\n",
       " 'zipcode_02130': 0.015727012478526273,\n",
       " 'zipcode_02215': 0.015581543563392999,\n",
       " 'zipcode_02118': 0.014038292049351177,\n",
       " 'property_type_Condominium': 0.014025340923187458,\n",
       " 'zipcode_02114': 0.013714982121969822,\n",
       " 'zipcode_02134': 0.013210369847954734,\n",
       " 'zipcode_02127': 0.011733804217958601,\n",
       " 'zipcode_02135': 0.010880278975411821,\n",
       " 'require_guest_phone_verification_t': 0.010880265965466903,\n",
       " 'zipcode_02128': 0.010575927891693006,\n",
       " 'cancellation_policy_super_strict_30': 0.010204673824499483,\n",
       " 'zipcode_02115': 0.009873245748777779,\n",
       " 'zipcode_02125': 0.008291013058404184,\n",
       " 'zipcode_02119': 0.007696581141201241,\n",
       " 'zipcode_02124': 0.007507833051938306,\n",
       " 'zipcode_02113': 0.007429695100196817,\n",
       " 'zipcode_02210': 0.007269612420925602,\n",
       " 'zipcode_02120': 0.007145162247032761,\n",
       " 'zipcode_02129': 0.007004477367451987,\n",
       " 'zipcode_02111': 0.006392804220349298,\n",
       " 'bed_type_Real Bed': 0.006110802088403874,\n",
       " 'property_type_Townhouse': 0.005955651855364907,\n",
       " 'zipcode_02131': 0.005877096201746508,\n",
       " 'zipcode_02109': 0.005135787236013504,\n",
       " 'room_type_Shared room': 0.004084727510372691,\n",
       " 'zipcode_02122': 0.0039345044027567205,\n",
       " 'require_guest_profile_picture_t': 0.003568681228008808,\n",
       " 'property_type_Loft': 0.003524771849383769,\n",
       " 'bed_type_Futon': 0.0032965759365028015,\n",
       " 'property_type_Bed & Breakfast': 0.0031283555084905762,\n",
       " 'zipcode_02136': 0.0030675986356614535,\n",
       " 'zipcode_02126': 0.00273317811208442,\n",
       " 'zipcode_02121': 0.0024109988989171483,\n",
       " 'bed_type_Pull-out Sofa': 0.0021785028261698865,\n",
       " 'zipcode_02132': 0.0018942330245473272,\n",
       " 'zipcode_02110': 0.001123147352675983,\n",
       " 'property_type_Other': 0.0008724553269223872,\n",
       " 'property_type_Boat': 0.0005871535509907959,\n",
       " 'zipcode_02134-1704': 0.0004583579966400885,\n",
       " 'property_type_Villa': 0.0004308142070637152,\n",
       " 'zipcode_02163': 0.00029839017768654565,\n",
       " 'zipcode_02108 02111': 0.0002839702557220371,\n",
       " 'property_type_Guesthouse': 0.00027568631807716815,\n",
       " 'bed_type_Couch': 0.0002577916763621589,\n",
       " 'property_type_Entire Floor': 0.00022899863172805505,\n",
       " 'property_type_Dorm': 3.857556945945337e-05,\n",
       " 'zipcode_02218': 3.4171266085753036e-05,\n",
       " 'zipcode_02467': 2.4001612410080227e-05}"
      ]
     },
     "execution_count": 165,
     "metadata": {},
     "output_type": "execute_result"
    }
   ],
   "source": [
    "dict(feature_importance)"
   ]
  },
  {
   "cell_type": "code",
   "execution_count": 166,
   "metadata": {},
   "outputs": [
    {
     "name": "stderr",
     "output_type": "stream",
     "text": [
      "No handles with labels found to put in legend.\n"
     ]
    },
    {
     "data": {
      "image/png": "[encoded data removed]",
      "text/plain": [
       "<Figure size 432x288 with 1 Axes>"
      ]
     },
     "metadata": {
      "needs_background": "light"
     },
     "output_type": "display_data"
    }
   ],
   "source": [
    "# Creating a bar plot\n",
    "sns.barplot(x=feature_importance, y=feature_importance.index)\n",
    "# Add labels to your graph\n",
    "plt.xlabel('Feature Importance Score')\n",
    "plt.ylabel('Features')\n",
    "plt.title(\"Visualizing Important Features\")\n",
    "plt.legend()\n",
    "plt.show()"
   ]
  },
  {
   "cell_type": "code",
   "execution_count": null,
   "metadata": {},
   "outputs": [],
   "source": []
  },
  {
   "cell_type": "code",
   "execution_count": null,
   "metadata": {},
   "outputs": [],
   "source": []
  },
  {
   "cell_type": "code",
   "execution_count": null,
   "metadata": {},
   "outputs": [],
   "source": []
  },
  {
   "cell_type": "code",
   "execution_count": null,
   "metadata": {},
   "outputs": [],
   "source": []
  },
  {
   "cell_type": "code",
   "execution_count": null,
   "metadata": {},
   "outputs": [],
   "source": []
  },
  {
   "cell_type": "code",
   "execution_count": null,
   "metadata": {},
   "outputs": [],
   "source": []
  },
  {
   "cell_type": "code",
   "execution_count": null,
   "metadata": {},
   "outputs": [],
   "source": []
  },
  {
   "cell_type": "code",
   "execution_count": null,
   "metadata": {},
   "outputs": [],
   "source": []
  },
  {
   "cell_type": "code",
   "execution_count": null,
   "metadata": {},
   "outputs": [],
   "source": []
  },
  {
   "cell_type": "code",
   "execution_count": null,
   "metadata": {},
   "outputs": [],
   "source": []
  },
  {
   "cell_type": "code",
   "execution_count": null,
   "metadata": {},
   "outputs": [],
   "source": []
  },
  {
   "cell_type": "code",
   "execution_count": 44,
   "metadata": {},
   "outputs": [],
   "source": [
    "def get_dummies_strlist(df,column_name):\n",
    "\n",
    "    # Creat a list to save all possible values\n",
    "    all_items = []\n",
    "    # Characters to be remove\n",
    "    replacements = ['\"',\"'\",\"[\",\"]\",\"{\",\"}\"]\n",
    "    # Loop through all rows in the df\n",
    "    for index, row in df.iterrows():\n",
    "        # Select the value based on the column being cleaned\n",
    "        items = row[column_name]\n",
    "        # Loop through the characters that need to be removed\n",
    "        for char in replacements:\n",
    "            if char in items:\n",
    "                # Remove the character\n",
    "                items = items.replace(char,\"\")\n",
    "        # Convert already cleaned str value to list\n",
    "        items = items.split(\",\")\n",
    "        # Loop through the items in the list\n",
    "        for item in items:\n",
    "            # Check that the item has at least one character\n",
    "            if len(item) != 0:\n",
    "                # Clears the item in case it has empty spaces\n",
    "                clean_item = item.strip()\n",
    "                # Check that a column already exists for that item\n",
    "                if clean_item in df.columns:\n",
    "                    # If exists assign a value of 1 to that row and column\n",
    "                    df.loc[index, clean_item] = 1\n",
    "                else:\n",
    "                    # If it does not exist create the column and then assign the value of 1 to that row and column\n",
    "                    df[clean_item] = 0\n",
    "                    df.loc[index, clean_item] = 1\n",
    "                    \n",
    "    # Drop the original column that was transformed\n",
    "    df = df.drop([column_name], axis=1)\n",
    "    # Return the new dataframe\n",
    "    return df"
   ]
  },
  {
   "cell_type": "code",
   "execution_count": null,
   "metadata": {},
   "outputs": [],
   "source": [
    "df_host = get_dummies_strlist(df_host,\"amenities\")"
   ]
  }
 ],
 "metadata": {
  "kernelspec": {
   "display_name": "Python 3",
   "language": "python",
   "name": "python3"
  },
  "language_info": {
   "codemirror_mode": {
    "name": "ipython",
    "version": 3
   },
   "file_extension": ".py",
   "mimetype": "text/x-python",
   "name": "python",
   "nbconvert_exporter": "python",
   "pygments_lexer": "ipython3",
   "version": "3.7.4"
  }
 },
 "nbformat": 4,
 "nbformat_minor": 2
}
