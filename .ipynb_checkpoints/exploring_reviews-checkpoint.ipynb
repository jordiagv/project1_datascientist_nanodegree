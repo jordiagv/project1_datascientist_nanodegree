{
 "cells": [
  {
   "cell_type": "code",
   "execution_count": 1,
   "metadata": {},
   "outputs": [],
   "source": [
    "import pandas as pd\n",
    "import numpy as np\n",
    "import math\n",
    "import matplotlib.pyplot as plt\n",
    "import boto3"
   ]
  },
  {
   "cell_type": "code",
   "execution_count": 2,
   "metadata": {},
   "outputs": [],
   "source": [
    "# Open calendar and listings data\n",
    "boston_reviews = pd.read_csv(\"boston_airbnb_data/reviews.csv\")"
   ]
  },
  {
   "cell_type": "code",
   "execution_count": 3,
   "metadata": {
    "scrolled": true
   },
   "outputs": [
    {
     "data": {
      "text/html": [
       "<div>\n",
       "<style scoped>\n",
       "    .dataframe tbody tr th:only-of-type {\n",
       "        vertical-align: middle;\n",
       "    }\n",
       "\n",
       "    .dataframe tbody tr th {\n",
       "        vertical-align: top;\n",
       "    }\n",
       "\n",
       "    .dataframe thead th {\n",
       "        text-align: right;\n",
       "    }\n",
       "</style>\n",
       "<table border=\"1\" class=\"dataframe\">\n",
       "  <thead>\n",
       "    <tr style=\"text-align: right;\">\n",
       "      <th></th>\n",
       "      <th>listing_id</th>\n",
       "      <th>id</th>\n",
       "      <th>date</th>\n",
       "      <th>reviewer_id</th>\n",
       "      <th>reviewer_name</th>\n",
       "      <th>comments</th>\n",
       "    </tr>\n",
       "  </thead>\n",
       "  <tbody>\n",
       "    <tr>\n",
       "      <th>0</th>\n",
       "      <td>1178162</td>\n",
       "      <td>4724140</td>\n",
       "      <td>2013-05-21</td>\n",
       "      <td>4298113</td>\n",
       "      <td>Olivier</td>\n",
       "      <td>My stay at islam's place was really cool! Good...</td>\n",
       "    </tr>\n",
       "    <tr>\n",
       "      <th>1</th>\n",
       "      <td>1178162</td>\n",
       "      <td>4869189</td>\n",
       "      <td>2013-05-29</td>\n",
       "      <td>6452964</td>\n",
       "      <td>Charlotte</td>\n",
       "      <td>Great location for both airport and city - gre...</td>\n",
       "    </tr>\n",
       "    <tr>\n",
       "      <th>2</th>\n",
       "      <td>1178162</td>\n",
       "      <td>5003196</td>\n",
       "      <td>2013-06-06</td>\n",
       "      <td>6449554</td>\n",
       "      <td>Sebastian</td>\n",
       "      <td>We really enjoyed our stay at Islams house. Fr...</td>\n",
       "    </tr>\n",
       "    <tr>\n",
       "      <th>3</th>\n",
       "      <td>1178162</td>\n",
       "      <td>5150351</td>\n",
       "      <td>2013-06-15</td>\n",
       "      <td>2215611</td>\n",
       "      <td>Marine</td>\n",
       "      <td>The room was nice and clean and so were the co...</td>\n",
       "    </tr>\n",
       "    <tr>\n",
       "      <th>4</th>\n",
       "      <td>1178162</td>\n",
       "      <td>5171140</td>\n",
       "      <td>2013-06-16</td>\n",
       "      <td>6848427</td>\n",
       "      <td>Andrew</td>\n",
       "      <td>Great location. Just 5 mins walk from the Airp...</td>\n",
       "    </tr>\n",
       "  </tbody>\n",
       "</table>\n",
       "</div>"
      ],
      "text/plain": [
       "   listing_id       id        date  reviewer_id reviewer_name  \\\n",
       "0     1178162  4724140  2013-05-21      4298113       Olivier   \n",
       "1     1178162  4869189  2013-05-29      6452964     Charlotte   \n",
       "2     1178162  5003196  2013-06-06      6449554     Sebastian   \n",
       "3     1178162  5150351  2013-06-15      2215611        Marine   \n",
       "4     1178162  5171140  2013-06-16      6848427        Andrew   \n",
       "\n",
       "                                            comments  \n",
       "0  My stay at islam's place was really cool! Good...  \n",
       "1  Great location for both airport and city - gre...  \n",
       "2  We really enjoyed our stay at Islams house. Fr...  \n",
       "3  The room was nice and clean and so were the co...  \n",
       "4  Great location. Just 5 mins walk from the Airp...  "
      ]
     },
     "execution_count": 3,
     "metadata": {},
     "output_type": "execute_result"
    }
   ],
   "source": [
    "# Preview of the data\n",
    "boston_reviews.head()"
   ]
  },
  {
   "cell_type": "code",
   "execution_count": 6,
   "metadata": {},
   "outputs": [
    {
     "name": "stdout",
     "output_type": "stream",
     "text": [
      "Boston calendar goes from: 2009-03-21 to 2016-09-06 \n"
     ]
    }
   ],
   "source": [
    "# Date range for boston reviews\n",
    "min_date_boston_reviews = boston_reviews[\"date\"].min()\n",
    "max_date_boston_reviews = boston_reviews[\"date\"].max()\n",
    "\n",
    "print(\"Boston calendar goes from: {} to {} \".format(min_date_boston_reviews,max_date_boston_reviews))"
   ]
  },
  {
   "cell_type": "code",
   "execution_count": 4,
   "metadata": {},
   "outputs": [
    {
     "data": {
      "text/plain": [
       "68275"
      ]
     },
     "execution_count": 4,
     "metadata": {},
     "output_type": "execute_result"
    }
   ],
   "source": [
    "len(boston_reviews)"
   ]
  },
  {
   "cell_type": "code",
   "execution_count": 14,
   "metadata": {},
   "outputs": [],
   "source": [
    "client = boto3.client('comprehend')"
   ]
  },
  {
   "cell_type": "code",
   "execution_count": 15,
   "metadata": {},
   "outputs": [],
   "source": [
    "def sentiment_comments_todict(df,client):\n",
    "    result_dict = {}\n",
    "    size = len(df)\n",
    "    general_count,correct_count,fail_count = 1,1,1\n",
    "    for index, row in df.iterrows():\n",
    "        general_percentage = round(general_count*100/size,2)\n",
    "        correct_percentage =round(correct_count*100/general_count,2)\n",
    "        fail_percentage = round(fail_count*100/general_count,2)\n",
    "        print(\"Progress:{}%, Correct:{}%, Fail:{}% ............\".format(general_percentage,\n",
    "                                                                        correct_percentage,fail_percentage),end='\\r')\n",
    "        general_count += 1\n",
    "        listing_id = row[0]\n",
    "        comment = row[5]\n",
    "        # Use aws comprehend to extract the sentiment of the comment\n",
    "        try:\n",
    "            response = client.detect_sentiment(Text=comment,LanguageCode='en')\n",
    "            if listing_id not in result_dict.keys():\n",
    "                result_dict[listing_id]={\"Positive\":[response[\"SentimentScore\"][\"Positive\"]],\n",
    "                                         \"Negative\":[response[\"SentimentScore\"][\"Negative\"]],\n",
    "                                         \"Neutral\":[response[\"SentimentScore\"][\"Neutral\"]],\n",
    "                                         \"Mixed\":[response[\"SentimentScore\"][\"Mixed\"]]}\n",
    "            else:\n",
    "                result_dict[listing_id][\"Positive\"].append(response[\"SentimentScore\"][\"Positive\"])\n",
    "                result_dict[listing_id][\"Negative\"].append(response[\"SentimentScore\"][\"Negative\"])\n",
    "                result_dict[listing_id][\"Neutral\"].append(response[\"SentimentScore\"][\"Neutral\"])\n",
    "                result_dict[listing_id][\"Mixed\"].append(response[\"SentimentScore\"][\"Mixed\"])\n",
    "\n",
    "            correct_count += 1\n",
    "        except:\n",
    "            fail_count += 1\n",
    "            continue\n",
    "            \n",
    "    return result_dict"
   ]
  },
  {
   "cell_type": "code",
   "execution_count": null,
   "metadata": {},
   "outputs": [],
   "source": [
    "def mean_sentiment_comments(result_dict):\n",
    "    resume_dict = {}\n",
    "    for listing_id in result_dict.keys():\n",
    "        mean_positive = round(sum(result_dict[listing_id][\"Positive\"])*100/len(result_dict[listing_id][\"Positive\"]),2)\n",
    "        mean_negative = round(sum(result_dict[listing_id][\"Negative\"])*100/len(result_dict[listing_id][\"Negative\"]),2)\n",
    "        mean_neutral = round(sum(result_dict[listing_id][\"Neutral\"])*100/len(result_dict[listing_id][\"Neutral\"]),2)\n",
    "        mean_mixed = round(sum(result_dict[listing_id][\"Mixed\"])*100/len(result_dict[listing_id][\"Mixed\"]),2)\n",
    "        number_reviews = len(result_dict[listing_id][\"Positive\"])\n",
    "\n",
    "        resume_dict[listing_id]={\"mean_positive\":mean_positive,\"mean_negative\":mean_negative,\"mean_neutral\":mean_neutral,\n",
    "                                \"mean_mixed\":mean_mixed,\"number_reviews\":number_reviews}\n",
    "    return resume_dict"
   ]
  },
  {
   "cell_type": "code",
   "execution_count": 16,
   "metadata": {},
   "outputs": [
    {
     "name": "stdout",
     "output_type": "stream",
     "text": [
      "Progress:100.0%, Correct:99.92%, Fail:0.08% ............\r"
     ]
    }
   ],
   "source": [
    "result_dict = sentiment_comments_todict(boston_reviews,client)"
   ]
  },
  {
   "cell_type": "code",
   "execution_count": 18,
   "metadata": {},
   "outputs": [],
   "source": [
    "df = pd.DataFrame.from_dict(result_dict,orient='index')\n",
    "df.to_csv(\"df_sentiment_comments_backup.csv\")\n",
    "df.to_json('df_sentiment_comments_backup.json', orient='index')"
   ]
  },
  {
   "cell_type": "code",
   "execution_count": 40,
   "metadata": {},
   "outputs": [],
   "source": [
    "mean_df = pd.DataFrame.from_dict(resume_dict,orient='index')\n",
    "mean_df.index.name = 'listing_id'\n",
    "mean_df.to_csv(\"mean_sentiment_comments.csv\")\n",
    "mean_df.to_json(\"mean_sentiment_comments.json\", orient='index')"
   ]
  },
  {
   "cell_type": "code",
   "execution_count": null,
   "metadata": {},
   "outputs": [],
   "source": []
  }
 ],
 "metadata": {
  "kernelspec": {
   "display_name": "Python 3",
   "language": "python",
   "name": "python3"
  },
  "language_info": {
   "codemirror_mode": {
    "name": "ipython",
    "version": 3
   },
   "file_extension": ".py",
   "mimetype": "text/x-python",
   "name": "python",
   "nbconvert_exporter": "python",
   "pygments_lexer": "ipython3",
   "version": "3.7.4"
  }
 },
 "nbformat": 4,
 "nbformat_minor": 2
}
