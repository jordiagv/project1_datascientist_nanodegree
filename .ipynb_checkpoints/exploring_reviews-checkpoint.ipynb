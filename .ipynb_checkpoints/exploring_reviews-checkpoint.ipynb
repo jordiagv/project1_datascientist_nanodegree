{
 "cells": [
  {
   "cell_type": "code",
   "execution_count": 68,
   "metadata": {},
   "outputs": [],
   "source": [
    "import pandas as pd\n",
    "import numpy as np\n",
    "import math\n",
    "import matplotlib.pyplot as plt\n",
    "import boto3"
   ]
  },
  {
   "cell_type": "code",
   "execution_count": 69,
   "metadata": {},
   "outputs": [],
   "source": [
    "# Open calendar and listings data\n",
    "boston_reviews = pd.read_csv(\"boston_airbnb_data/reviews.csv\")"
   ]
  },
  {
   "cell_type": "code",
   "execution_count": 70,
   "metadata": {},
   "outputs": [],
   "source": [
    "client = boto3.client('comprehend')"
   ]
  },
  {
   "cell_type": "code",
   "execution_count": 73,
   "metadata": {},
   "outputs": [],
   "source": [
    "def sentiment_comments_todict(df,client):\n",
    "    result_dict = {}\n",
    "    size = len(df)\n",
    "    count = 1\n",
    "    for index, row in df.iterrows():\n",
    "        print(\"...........{}%...........\".format(int(count*100/size)),end='\\r')\n",
    "        listing_id = row[0]\n",
    "        comment = row[5]\n",
    "        # Use aws comprehend to extract the sentiment of the comment\n",
    "        try:\n",
    "            response = client.detect_sentiment(Text=comment,LanguageCode='en')\n",
    "            if listing_id not in result_dict.keys():\n",
    "                result_dict[listing_id]={\"Positive\":[response[\"SentimentScore\"][\"Positive\"]],\n",
    "                                         \"Negative\":[response[\"SentimentScore\"][\"Negative\"]],\n",
    "                                         \"Neutral\":[response[\"SentimentScore\"][\"Neutral\"]],\n",
    "                                         \"Mixed\":[response[\"SentimentScore\"][\"Mixed\"]]}\n",
    "            else:\n",
    "                result_dict[listing_id][\"Positive\"].append(response[\"SentimentScore\"][\"Positive\"])\n",
    "                result_dict[listing_id][\"Negative\"].append(response[\"SentimentScore\"][\"Negative\"])\n",
    "                result_dict[listing_id][\"Neutral\"].append(response[\"SentimentScore\"][\"Neutral\"])\n",
    "                result_dict[listing_id][\"Mixed\"].append(response[\"SentimentScore\"][\"Mixed\"])\n",
    "\n",
    "            count += 1\n",
    "        except:\n",
    "            count += 1\n",
    "            continue\n",
    "            \n",
    "    return result_dict"
   ]
  },
  {
   "cell_type": "code",
   "execution_count": 74,
   "metadata": {},
   "outputs": [
    {
     "name": "stdout",
     "output_type": "stream",
     "text": [
      "...........100%...........\r"
     ]
    }
   ],
   "source": [
    "result_dict = sentiment_comments_todict(df,client)"
   ]
  },
  {
   "cell_type": "code",
   "execution_count": 79,
   "metadata": {
    "scrolled": true
   },
   "outputs": [
    {
     "data": {
      "text/plain": [
       "{8354938: {'Positive': [0.9938029050827026,\n",
       "   0.9996708631515503,\n",
       "   0.9977043271064758,\n",
       "   0.9986516833305359],\n",
       "  'Negative': [6.073163967812434e-05,\n",
       "   1.9750461433432065e-05,\n",
       "   2.166143895010464e-05,\n",
       "   3.86906394851394e-05],\n",
       "  'Neutral': [0.005853894166648388,\n",
       "   0.0002798087371047586,\n",
       "   0.0022355637047439814,\n",
       "   0.0012146868975833058],\n",
       "  'Mixed': [0.0002824349794536829,\n",
       "   2.9509010346373543e-05,\n",
       "   3.8485508412122726e-05,\n",
       "   9.500906162429601e-05]},\n",
       " 6609546: {'Positive': [0.9992621541023254,\n",
       "   0.9990488886833191,\n",
       "   0.9997994303703308,\n",
       "   0.9996310472488403,\n",
       "   0.9995471835136414,\n",
       "   0.9951683282852173,\n",
       "   0.9996984004974365,\n",
       "   0.9997007846832275,\n",
       "   0.9919849038124084,\n",
       "   0.999666690826416,\n",
       "   0.9992658495903015,\n",
       "   0.9990692734718323,\n",
       "   0.9996939897537231,\n",
       "   0.999705970287323,\n",
       "   0.9997989535331726,\n",
       "   0.9995003938674927,\n",
       "   0.9998273253440857],\n",
       "  'Negative': [2.377091186644975e-05,\n",
       "   4.3331088818376884e-05,\n",
       "   7.6468670158647e-05,\n",
       "   1.970766061276663e-05,\n",
       "   1.899072049127426e-05,\n",
       "   4.2599585867719725e-05,\n",
       "   1.8779815945890732e-05,\n",
       "   1.965855699381791e-05,\n",
       "   0.0003235660260543227,\n",
       "   4.1730523662408814e-05,\n",
       "   2.3670918380958028e-05,\n",
       "   2.2024340069037862e-05,\n",
       "   3.2216008548857644e-05,\n",
       "   1.980995511985384e-05,\n",
       "   2.7164534913026728e-05,\n",
       "   1.7390821085427888e-05,\n",
       "   3.199271304765716e-05],\n",
       "  'Neutral': [0.0006354679935611784,\n",
       "   0.00020506090368144214,\n",
       "   8.238670852733776e-05,\n",
       "   0.0003222419763915241,\n",
       "   0.0003543056664057076,\n",
       "   0.004751239903271198,\n",
       "   0.00018080130394082516,\n",
       "   0.00021309319708961993,\n",
       "   0.0075656394474208355,\n",
       "   0.00027184252394363284,\n",
       "   0.0006887625786475837,\n",
       "   0.0008761179051361978,\n",
       "   0.00018790383182931691,\n",
       "   0.00024323511752299964,\n",
       "   0.0001460500934626907,\n",
       "   0.00041058019269257784,\n",
       "   0.0001153538833023049],\n",
       "  'Mixed': [7.857994205551222e-05,\n",
       "   0.0007027084939181805,\n",
       "   4.169914609519765e-05,\n",
       "   2.697597119549755e-05,\n",
       "   7.95763116911985e-05,\n",
       "   3.782026396947913e-05,\n",
       "   0.00010196041694143787,\n",
       "   6.650093564530835e-05,\n",
       "   0.0001259426207980141,\n",
       "   1.9805531337624416e-05,\n",
       "   2.172801578126382e-05,\n",
       "   3.261903839302249e-05,\n",
       "   8.595811959821731e-05,\n",
       "   3.10429823002778e-05,\n",
       "   2.7788946681539528e-05,\n",
       "   7.165382703533396e-05,\n",
       "   2.543304617574904e-05]}}"
      ]
     },
     "execution_count": 79,
     "metadata": {},
     "output_type": "execute_result"
    }
   ],
   "source": [
    "result_dict"
   ]
  },
  {
   "cell_type": "code",
   "execution_count": 82,
   "metadata": {},
   "outputs": [],
   "source": [
    "df = pd.DataFrame.from_dict(result_dict,orient='index')"
   ]
  },
  {
   "cell_type": "code",
   "execution_count": 84,
   "metadata": {},
   "outputs": [],
   "source": [
    "df.to_csv(\"df_sentiment_comments_backup.csv\")"
   ]
  },
  {
   "cell_type": "code",
   "execution_count": null,
   "metadata": {},
   "outputs": [],
   "source": []
  }
 ],
 "metadata": {
  "kernelspec": {
   "display_name": "Python 3",
   "language": "python",
   "name": "python3"
  },
  "language_info": {
   "codemirror_mode": {
    "name": "ipython",
    "version": 3
   },
   "file_extension": ".py",
   "mimetype": "text/x-python",
   "name": "python",
   "nbconvert_exporter": "python",
   "pygments_lexer": "ipython3",
   "version": "3.7.4"
  }
 },
 "nbformat": 4,
 "nbformat_minor": 2
}
