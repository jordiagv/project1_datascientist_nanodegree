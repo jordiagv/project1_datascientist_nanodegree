{
 "cells": [
  {
   "cell_type": "markdown",
   "metadata": {},
   "source": [
    "### Titulo"
   ]
  },
  {
   "cell_type": "markdown",
   "metadata": {},
   "source": [
    "#### explicacion despues de aplicar los primeros dos pasos del metodo crisp, entender el modelo airbnb, navegr por pagna y ser usuario, se analizo la data disponible y se plantearon las siguientes preguntas"
   ]
  },
  {
   "cell_type": "markdown",
   "metadata": {},
   "source": [
    "1. que influencia tiene la ubicacion en la ocupacion y si su importancia cambia por ciudad \n",
    "2. que influencia tiene el host y el tipo de lugar\n",
    "3. que influencia las reviews\n",
    "\n",
    "en general encontrar las variables criticas para aumentar la ocupacion de una propiedad agrupadas en ubicación, host, place, y reviews"
   ]
  },
  {
   "cell_type": "code",
   "execution_count": 1,
   "metadata": {},
   "outputs": [],
   "source": [
    "import pandas as pd\n",
    "import numpy as np"
   ]
  },
  {
   "cell_type": "code",
   "execution_count": 27,
   "metadata": {},
   "outputs": [],
   "source": [
    "# Open calendar data\n",
    "boston_calendar = pd.read_csv(\"boston_airbnb_data/calendar.csv\")\n",
    "seattle_calendar = pd.read_csv(\"seattle_airbnb_data/calendar.csv\")"
   ]
  },
  {
   "cell_type": "code",
   "execution_count": 61,
   "metadata": {},
   "outputs": [],
   "source": [
    "# Open listings data\n",
    "boston_listings = pd.read_csv(\"boston_airbnb_data/listings.csv\")\n",
    "seattle_listings = pd.read_csv(\"seattle_airbnb_data/listings.csv\")"
   ]
  },
  {
   "cell_type": "code",
   "execution_count": 29,
   "metadata": {},
   "outputs": [],
   "source": [
    "# Concatenate the data calendar from Boston and Seattle\n",
    "df_calendar = pd.concat([boston_calendar,seattle_calendar ], axis=0,ignore_index=True)\n",
    "# Drop price column because we don't need it for our analysis\n",
    "df_calendar = df_calendar.drop('price', axis=1)"
   ]
  },
  {
   "cell_type": "code",
   "execution_count": 39,
   "metadata": {},
   "outputs": [],
   "source": [
    "# Get one column for each variable on for t(true) and one for f(false)\n",
    "df_calendar = pd.concat([df_calendar.drop('available', axis=1), pd.get_dummies(df_calendar['available'], prefix='available', prefix_sep='_')], axis=1)"
   ]
  },
  {
   "cell_type": "code",
   "execution_count": 57,
   "metadata": {},
   "outputs": [],
   "source": [
    "# Group by each list id by adding the number of times each list_id is available and unavailable\n",
    "df_occupation = df_calendar.groupby(\"listing_id\").sum()\n",
    "# Add a column with the occupancy percentage, which is the number of days occupied divided by the total number of days registered\n",
    "df_occupation[\"occupation_percentage\"] = df_occupation[\"available_f\"]*100/(df_occupation[\"available_f\"]+df_occupation[\"available_t\"])\n",
    "# Drop columns will no longer be used\n",
    "df_occupation = df_occupation.drop([\"available_f\",\"available_t\"], axis=1)"
   ]
  },
  {
   "cell_type": "code",
   "execution_count": 58,
   "metadata": {
    "scrolled": true
   },
   "outputs": [
    {
     "data": {
      "text/html": [
       "<div>\n",
       "<style scoped>\n",
       "    .dataframe tbody tr th:only-of-type {\n",
       "        vertical-align: middle;\n",
       "    }\n",
       "\n",
       "    .dataframe tbody tr th {\n",
       "        vertical-align: top;\n",
       "    }\n",
       "\n",
       "    .dataframe thead th {\n",
       "        text-align: right;\n",
       "    }\n",
       "</style>\n",
       "<table border=\"1\" class=\"dataframe\">\n",
       "  <thead>\n",
       "    <tr style=\"text-align: right;\">\n",
       "      <th></th>\n",
       "      <th>occupation_percentage</th>\n",
       "    </tr>\n",
       "    <tr>\n",
       "      <th>listing_id</th>\n",
       "      <th></th>\n",
       "    </tr>\n",
       "  </thead>\n",
       "  <tbody>\n",
       "    <tr>\n",
       "      <th>3335</th>\n",
       "      <td>15.342466</td>\n",
       "    </tr>\n",
       "    <tr>\n",
       "      <th>3353</th>\n",
       "      <td>31.780822</td>\n",
       "    </tr>\n",
       "    <tr>\n",
       "      <th>4291</th>\n",
       "      <td>0.000000</td>\n",
       "    </tr>\n",
       "    <tr>\n",
       "      <th>5506</th>\n",
       "      <td>5.753425</td>\n",
       "    </tr>\n",
       "    <tr>\n",
       "      <th>5682</th>\n",
       "      <td>15.342466</td>\n",
       "    </tr>\n",
       "    <tr>\n",
       "      <th>...</th>\n",
       "      <td>...</td>\n",
       "    </tr>\n",
       "    <tr>\n",
       "      <th>14924831</th>\n",
       "      <td>81.917808</td>\n",
       "    </tr>\n",
       "    <tr>\n",
       "      <th>14928000</th>\n",
       "      <td>0.000000</td>\n",
       "    </tr>\n",
       "    <tr>\n",
       "      <th>14928333</th>\n",
       "      <td>7.123288</td>\n",
       "    </tr>\n",
       "    <tr>\n",
       "      <th>14933380</th>\n",
       "      <td>77.808219</td>\n",
       "    </tr>\n",
       "    <tr>\n",
       "      <th>14933461</th>\n",
       "      <td>58.904110</td>\n",
       "    </tr>\n",
       "  </tbody>\n",
       "</table>\n",
       "<p>7403 rows × 1 columns</p>\n",
       "</div>"
      ],
      "text/plain": [
       "            occupation_percentage\n",
       "listing_id                       \n",
       "3335                    15.342466\n",
       "3353                    31.780822\n",
       "4291                     0.000000\n",
       "5506                     5.753425\n",
       "5682                    15.342466\n",
       "...                           ...\n",
       "14924831                81.917808\n",
       "14928000                 0.000000\n",
       "14928333                 7.123288\n",
       "14933380                77.808219\n",
       "14933461                58.904110\n",
       "\n",
       "[7403 rows x 1 columns]"
      ]
     },
     "execution_count": 58,
     "metadata": {},
     "output_type": "execute_result"
    }
   ],
   "source": [
    "df_occupation"
   ]
  },
  {
   "cell_type": "code",
   "execution_count": 62,
   "metadata": {},
   "outputs": [
    {
     "ename": "NameError",
     "evalue": "name 'udpate_boston_listings' is not defined",
     "output_type": "error",
     "traceback": [
      "\u001b[1;31m---------------------------------------------------------------------------\u001b[0m",
      "\u001b[1;31mNameError\u001b[0m                                 Traceback (most recent call last)",
      "\u001b[1;32m<ipython-input-62-7bf29a975dd7>\u001b[0m in \u001b[0;36m<module>\u001b[1;34m\u001b[0m\n\u001b[0;32m      2\u001b[0m \u001b[0mboston_listings\u001b[0m \u001b[1;33m=\u001b[0m \u001b[0mboston_listings\u001b[0m\u001b[1;33m.\u001b[0m\u001b[0mdrop\u001b[0m\u001b[1;33m(\u001b[0m \u001b[1;33m[\u001b[0m\u001b[1;34m'access'\u001b[0m\u001b[1;33m,\u001b[0m \u001b[1;34m'interaction'\u001b[0m\u001b[1;33m,\u001b[0m \u001b[1;34m'house_rules'\u001b[0m\u001b[1;33m]\u001b[0m\u001b[1;33m,\u001b[0m \u001b[0maxis\u001b[0m\u001b[1;33m=\u001b[0m\u001b[1;36m1\u001b[0m\u001b[1;33m)\u001b[0m\u001b[1;33m\u001b[0m\u001b[1;33m\u001b[0m\u001b[0m\n\u001b[0;32m      3\u001b[0m \u001b[1;31m# Concatenate the data listings from Boston and Seattle\u001b[0m\u001b[1;33m\u001b[0m\u001b[1;33m\u001b[0m\u001b[1;33m\u001b[0m\u001b[0m\n\u001b[1;32m----> 4\u001b[1;33m \u001b[0mdf_listings\u001b[0m \u001b[1;33m=\u001b[0m \u001b[0mpd\u001b[0m\u001b[1;33m.\u001b[0m\u001b[0mconcat\u001b[0m\u001b[1;33m(\u001b[0m\u001b[1;33m[\u001b[0m\u001b[0mudpate_boston_listings\u001b[0m\u001b[1;33m,\u001b[0m \u001b[0mseattle_listings\u001b[0m\u001b[1;33m]\u001b[0m\u001b[1;33m,\u001b[0m \u001b[0maxis\u001b[0m\u001b[1;33m=\u001b[0m\u001b[1;36m0\u001b[0m\u001b[1;33m)\u001b[0m\u001b[1;33m\u001b[0m\u001b[1;33m\u001b[0m\u001b[0m\n\u001b[0m",
      "\u001b[1;31mNameError\u001b[0m: name 'udpate_boston_listings' is not defined"
     ]
    }
   ],
   "source": [
    "# Before concatenating listings dataframes, we need to remove the columns that have boston and not seattle\n",
    "boston_listings = boston_listings.drop( ['access', 'interaction', 'house_rules'], axis=1)\n",
    "# Concatenate the data listings from Boston and Seattle\n",
    "df_listings = pd.concat([boston_listings, seattle_listings], axis=0)"
   ]
  },
  {
   "cell_type": "code",
   "execution_count": null,
   "metadata": {},
   "outputs": [],
   "source": []
  }
 ],
 "metadata": {
  "kernelspec": {
   "display_name": "Python 3",
   "language": "python",
   "name": "python3"
  },
  "language_info": {
   "codemirror_mode": {
    "name": "ipython",
    "version": 3
   },
   "file_extension": ".py",
   "mimetype": "text/x-python",
   "name": "python",
   "nbconvert_exporter": "python",
   "pygments_lexer": "ipython3",
   "version": "3.7.4"
  }
 },
 "nbformat": 4,
 "nbformat_minor": 2
}
