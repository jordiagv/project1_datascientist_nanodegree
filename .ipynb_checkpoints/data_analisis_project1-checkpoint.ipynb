{
 "cells": [
  {
   "cell_type": "markdown",
   "metadata": {},
   "source": [
    "### Titulo"
   ]
  },
  {
   "cell_type": "markdown",
   "metadata": {},
   "source": [
    "#### explicacion despues de aplicar los primeros dos pasos del metodo crisp, entender el modelo airbnb, navegr por pagna y ser usuario, se analizo la data disponible y se plantearon las siguientes preguntas"
   ]
  },
  {
   "cell_type": "markdown",
   "metadata": {},
   "source": [
    "1. que influencia tiene la ubicacion en la ocupacion, es mejor indicador el codigo postal o regiones creados en base a clustering\n",
    "2. que influencia tiene el host y el tipo de lugar\n",
    "3. que influencia las reviews\n",
    "\n",
    "en general encontrar las variables criticas para aumentar la ocupacion de una propiedad agrupadas en ubicación, host, place, y reviews"
   ]
  },
  {
   "cell_type": "code",
   "execution_count": 167,
   "metadata": {},
   "outputs": [],
   "source": [
    "import pandas as pd\n",
    "import numpy as np\n",
    "pd.set_option('max_columns', None)"
   ]
  },
  {
   "cell_type": "code",
   "execution_count": 168,
   "metadata": {},
   "outputs": [],
   "source": [
    "# Open calendar data\n",
    "boston_calendar = pd.read_csv(\"boston_airbnb_data/calendar.csv\")\n",
    "seattle_calendar = pd.read_csv(\"seattle_airbnb_data/calendar.csv\")"
   ]
  },
  {
   "cell_type": "code",
   "execution_count": 169,
   "metadata": {},
   "outputs": [],
   "source": [
    "# Open listings data\n",
    "boston_listings = pd.read_csv(\"boston_airbnb_data/listings.csv\")\n",
    "seattle_listings = pd.read_csv(\"seattle_airbnb_data/listings.csv\")"
   ]
  },
  {
   "cell_type": "code",
   "execution_count": 170,
   "metadata": {},
   "outputs": [],
   "source": [
    "# Concatenate the data calendar from Boston and Seattle\n",
    "df_calendar = pd.concat([boston_calendar,seattle_calendar ], axis=0,ignore_index=True)\n",
    "# Drop price column because we don't need it for our analysis\n",
    "df_calendar = df_calendar.drop('price', axis=1)"
   ]
  },
  {
   "cell_type": "code",
   "execution_count": 171,
   "metadata": {},
   "outputs": [],
   "source": [
    "# Get one column for each variable on for t(true) and one for f(false)\n",
    "df_calendar = pd.concat([df_calendar.drop('available', axis=1), pd.get_dummies(df_calendar['available'], prefix='available', prefix_sep='_')], axis=1)"
   ]
  },
  {
   "cell_type": "code",
   "execution_count": 172,
   "metadata": {},
   "outputs": [],
   "source": [
    "# Group by each list id by adding the number of times each list_id is available and unavailable\n",
    "df_occupation = df_calendar.groupby(\"listing_id\").sum()\n",
    "# Add a column with the occupancy percentage, which is the number of days occupied divided by the total number of days registered\n",
    "df_occupation[\"occupation_percentage\"] = df_occupation[\"available_f\"]*100/(df_occupation[\"available_f\"]+df_occupation[\"available_t\"])\n",
    "# Drop columns will no longer be used\n",
    "df_occupation = df_occupation.drop([\"available_f\",\"available_t\"], axis=1)"
   ]
  },
  {
   "cell_type": "code",
   "execution_count": 173,
   "metadata": {},
   "outputs": [],
   "source": [
    "# Before concatenating listings dataframes, we need to remove the columns that have boston and not seattle\n",
    "boston_listings = boston_listings.drop( ['access', 'interaction', 'house_rules'], axis=1)\n",
    "# Concatenate the data listings from Boston and Seattle\n",
    "df_listings = pd.concat([boston_listings, seattle_listings], axis=0)"
   ]
  },
  {
   "cell_type": "code",
   "execution_count": 242,
   "metadata": {},
   "outputs": [],
   "source": [
    "# Create a consolidate dataframe with all the airbnb data including the ocupattion rate that wass alcasdflklasdf\n",
    "df = pd.merge(df_listings, df_occupation,left_on=\"id\",right_on=\"listing_id\", how=\"inner\")"
   ]
  },
  {
   "cell_type": "code",
   "execution_count": 243,
   "metadata": {},
   "outputs": [],
   "source": [
    "# en base a la exploracion data listin realzada en el archivo as, y a las preguntas realizaddas\n",
    "# como primera iteracion se elimnan las columnas con mas de 20% valores perdidos y se conservanm las siguientes columas que\n",
    "# tiene ralacion con nuestras preguntas y no tiene mas de 20% de valores faltantes"
   ]
  },
  {
   "cell_type": "code",
   "execution_count": 244,
   "metadata": {},
   "outputs": [],
   "source": [
    "columns_of_interest = ['experiences_offered','host_location','host_response_time','host_response_rate',\n",
    "                       'host_acceptance_rate','host_is_superhost','host_listings_count','host_total_listings_count',\n",
    "                       'host_verifications','host_has_profile_pic','host_identity_verified','zipcode','city',\n",
    "                       'latitude','longitude','property_type','room_type','accommodates','bathrooms','bedrooms','beds',\n",
    "                       'bed_type','amenities','price','guests_included','extra_people','minimum_nights','maximum_nights',\n",
    "                       'number_of_reviews','review_scores_rating','review_scores_cleanliness','review_scores_checkin',\n",
    "                       'review_scores_communication','review_scores_location','review_scores_value','requires_license',\n",
    "                       'instant_bookable','cancellation_policy','require_guest_profile_picture',\n",
    "                       'require_guest_phone_verification','calculated_host_listings_count','reviews_per_month',\n",
    "                       'occupation_percentage']\n",
    "\n",
    "df = df[columns_of_interest]"
   ]
  },
  {
   "cell_type": "code",
   "execution_count": null,
   "metadata": {},
   "outputs": [],
   "source": [
    "# Use the describe function to understand and classify them to apply different strategies based on the information they contain\n",
    "df.describe(include=\"all\").transpose()"
   ]
  },
  {
   "cell_type": "code",
   "execution_count": 245,
   "metadata": {},
   "outputs": [],
   "source": [
    "# Columns with unique values are removed because they do not add anything to the analysis\n",
    "unique_value_columns = [\"experiences_offered\",\"requires_license\"]\n",
    "df = df.drop(unique_value_columns, axis=1)"
   ]
  },
  {
   "cell_type": "code",
   "execution_count": null,
   "metadata": {},
   "outputs": [],
   "source": [
    "'''\n",
    "Columns with only true and false values and columns with few different values can be easily processed \n",
    "with the get_dummies function because it will not generate an exaggerated number of new columns\n",
    "'''\n",
    "\n",
    "boolean_value_columns = [\"host_is_superhost\",\"host_has_profile_pic\",\"host_identity_verified\",\"instant_bookable\",\n",
    "                         \"require_guest_profile_picture\",\"require_guest_phone_verification\"]\n",
    "\n",
    "categoricalfewvalues_columns = [\"host_response_time\",\"room_type\",\"bed_type\",\"cancellation_policy\"]\n",
    "\n",
    "boolean_fewvalues_columns = categoricalfewvalues_columns + categoricalmanyvalues_columns\n",
    "\n",
    "for var in  boolean_fewvalues_columns:\n",
    "    df = pd.concat([df.drop(var, axis=1), pd.get_dummies(df[var], prefix=var, prefix_sep='_', drop_first=True)], axis=1)\n",
    "    "
   ]
  },
  {
   "cell_type": "code",
   "execution_count": 196,
   "metadata": {},
   "outputs": [],
   "source": [
    "# columnas que estan como categoricas pero deberian de ser continuas\n",
    "categoricalbutwrong_columns = [\"host_response_rate\",\"host_acceptance_rate\",\"price\",\"extra_people\"]\n",
    "# modificacion columnas a continuas\n",
    "df['host_response_rate'] = df['host_response_rate'].str.replace('%', '', regex=False).astype(float)\n",
    "df['host_acceptance_rate'] = df['host_acceptance_rate'].str.replace('%', '', regex=False).astype(float)\n",
    "# modifica columna price\n",
    "df['price'] = df['price'].str.replace('$', '', regex=False)\n",
    "df['price'] = df['price'].str.replace(',', '', regex=False)\n",
    "df['price'] = df['price'].astype(float)\n",
    "# modifica columna extra people\n",
    "df['extra_people'] = df['extra_people'].str.replace('$', '', regex=False)\n",
    "df['extra_people'] = df['extra_people'].str.replace(',', '', regex=False)\n",
    "df['extra_people'] = df['extra_people'].astype(float)"
   ]
  },
  {
   "cell_type": "code",
   "execution_count": null,
   "metadata": {},
   "outputs": [],
   "source": [
    "# columnas complejas por la cantidad de diferentes valores que continen, aplicar dummi variables generaria muchas columnas\n",
    "categoricalmanyvalues_columns = [\"host_location\",\"host_verifications\",\"zipcode\",\"city\",\"property_type\",\n",
    "                                 \"amenities\"]"
   ]
  },
  {
   "cell_type": "code",
   "execution_count": null,
   "metadata": {},
   "outputs": [],
   "source": [
    "primero en city los valores que no sean boston y seattle pasarlos a nulos, despues host location "
   ]
  },
  {
   "cell_type": "code",
   "execution_count": 246,
   "metadata": {},
   "outputs": [],
   "source": [
    "#Help function to mantain in city column just seattle or boston values, other value are change to nan\n",
    "def check_city(value):\n",
    "    if value == \"Seattle\" or value == \"Boston\":\n",
    "        return value\n",
    "    else: \n",
    "        return np.nan\n",
    "    \n",
    "# Apply the help function    \n",
    "df['city'] = df['city'].apply(check_city)\n",
    "# Drop rows with nan values in city column because the analisis is just for airbnbs in those citys\n",
    "#df = df.dropna(subset=['city'])"
   ]
  },
  {
   "cell_type": "code",
   "execution_count": 250,
   "metadata": {},
   "outputs": [],
   "source": [
    "#Funcuon integra clean host y aparte checa si esta in city\n",
    "def host_isin_city(host_location,city):\n",
    "    try:\n",
    "        clean_host_location = host_location.split(\",\")[0]\n",
    "        if clean_host_location == city:\n",
    "            return True\n",
    "        else:\n",
    "            return False\n",
    "    except AttributeError:\n",
    "        return np.nan\n",
    "\n",
    "df['host_in_city'] = df.apply(lambda x: host_isin_city(x.host_location, x.city), axis=1)"
   ]
  },
  {
   "cell_type": "code",
   "execution_count": null,
   "metadata": {},
   "outputs": [],
   "source": [
    "#creta dummies for city, drop city"
   ]
  },
  {
   "cell_type": "code",
   "execution_count": null,
   "metadata": {},
   "outputs": [],
   "source": [
    "# create dummies for host in city, drop host in city"
   ]
  },
  {
   "cell_type": "code",
   "execution_count": 254,
   "metadata": {},
   "outputs": [],
   "source": [
    "pre_df = df[[\"city\",\"host_in_city\"]]"
   ]
  },
  {
   "cell_type": "code",
   "execution_count": 255,
   "metadata": {},
   "outputs": [
    {
     "data": {
      "text/html": [
       "<div>\n",
       "<style scoped>\n",
       "    .dataframe tbody tr th:only-of-type {\n",
       "        vertical-align: middle;\n",
       "    }\n",
       "\n",
       "    .dataframe tbody tr th {\n",
       "        vertical-align: top;\n",
       "    }\n",
       "\n",
       "    .dataframe thead th {\n",
       "        text-align: right;\n",
       "    }\n",
       "</style>\n",
       "<table border=\"1\" class=\"dataframe\">\n",
       "  <thead>\n",
       "    <tr style=\"text-align: right;\">\n",
       "      <th></th>\n",
       "      <th>city</th>\n",
       "      <th>host_in_city</th>\n",
       "    </tr>\n",
       "  </thead>\n",
       "  <tbody>\n",
       "    <tr>\n",
       "      <th>0</th>\n",
       "      <td>Boston</td>\n",
       "      <td>True</td>\n",
       "    </tr>\n",
       "    <tr>\n",
       "      <th>1</th>\n",
       "      <td>Boston</td>\n",
       "      <td>True</td>\n",
       "    </tr>\n",
       "    <tr>\n",
       "      <th>2</th>\n",
       "      <td>Boston</td>\n",
       "      <td>True</td>\n",
       "    </tr>\n",
       "    <tr>\n",
       "      <th>3</th>\n",
       "      <td>Boston</td>\n",
       "      <td>True</td>\n",
       "    </tr>\n",
       "    <tr>\n",
       "      <th>4</th>\n",
       "      <td>Boston</td>\n",
       "      <td>True</td>\n",
       "    </tr>\n",
       "    <tr>\n",
       "      <th>...</th>\n",
       "      <td>...</td>\n",
       "      <td>...</td>\n",
       "    </tr>\n",
       "    <tr>\n",
       "      <th>7398</th>\n",
       "      <td>Seattle</td>\n",
       "      <td>False</td>\n",
       "    </tr>\n",
       "    <tr>\n",
       "      <th>7399</th>\n",
       "      <td>Seattle</td>\n",
       "      <td>True</td>\n",
       "    </tr>\n",
       "    <tr>\n",
       "      <th>7400</th>\n",
       "      <td>Seattle</td>\n",
       "      <td>False</td>\n",
       "    </tr>\n",
       "    <tr>\n",
       "      <th>7401</th>\n",
       "      <td>Seattle</td>\n",
       "      <td>False</td>\n",
       "    </tr>\n",
       "    <tr>\n",
       "      <th>7402</th>\n",
       "      <td>Seattle</td>\n",
       "      <td>True</td>\n",
       "    </tr>\n",
       "  </tbody>\n",
       "</table>\n",
       "<p>7403 rows × 2 columns</p>\n",
       "</div>"
      ],
      "text/plain": [
       "         city host_in_city\n",
       "0      Boston         True\n",
       "1      Boston         True\n",
       "2      Boston         True\n",
       "3      Boston         True\n",
       "4      Boston         True\n",
       "...       ...          ...\n",
       "7398  Seattle        False\n",
       "7399  Seattle         True\n",
       "7400  Seattle        False\n",
       "7401  Seattle        False\n",
       "7402  Seattle         True\n",
       "\n",
       "[7403 rows x 2 columns]"
      ]
     },
     "execution_count": 255,
     "metadata": {},
     "output_type": "execute_result"
    }
   ],
   "source": [
    "pre_df"
   ]
  },
  {
   "cell_type": "code",
   "execution_count": null,
   "metadata": {},
   "outputs": [],
   "source": []
  }
 ],
 "metadata": {
  "kernelspec": {
   "display_name": "Python 3",
   "language": "python",
   "name": "python3"
  },
  "language_info": {
   "codemirror_mode": {
    "name": "ipython",
    "version": 3
   },
   "file_extension": ".py",
   "mimetype": "text/x-python",
   "name": "python",
   "nbconvert_exporter": "python",
   "pygments_lexer": "ipython3",
   "version": "3.7.4"
  }
 },
 "nbformat": 4,
 "nbformat_minor": 2
}
