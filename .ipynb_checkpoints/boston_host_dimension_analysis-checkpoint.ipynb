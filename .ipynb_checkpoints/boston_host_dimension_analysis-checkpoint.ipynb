{
 "cells": [
  {
   "cell_type": "markdown",
   "metadata": {},
   "source": [
    "### Titulo"
   ]
  },
  {
   "cell_type": "markdown",
   "metadata": {},
   "source": [
    "#### explicacion despues de aplicar los primeros dos pasos del metodo crisp, entender el modelo airbnb, navegr por pagna y ser usuario, se analizo la data disponible y se plantearon las siguientes preguntas"
   ]
  },
  {
   "cell_type": "markdown",
   "metadata": {},
   "source": [
    "1. que influencia tiene la ubicacion en la ocupacion, es mejor indicador el codigo postal o regiones creados en base a clustering\n",
    "2. que influencia tiene el host y el tipo de lugar\n",
    "3. que influencia las reviews\n",
    "\n",
    "en general encontrar las variables criticas para aumentar la ocupacion de una propiedad agrupadas en ubicación, host, place, y reviews"
   ]
  },
  {
   "cell_type": "code",
   "execution_count": 68,
   "metadata": {},
   "outputs": [],
   "source": [
    "import pandas as pd\n",
    "import numpy as np\n",
    "import matplotlib.pyplot as plt\n",
    "# Import train_test_split function\n",
    "from sklearn.model_selection import train_test_split\n",
    "#Import Random Forest Model classifier\n",
    "from sklearn.ensemble import RandomForestClassifier\n",
    "#Import scikit-learn metrics module for accuracy calculation\n",
    "from sklearn import metrics\n",
    "from sklearn.metrics import mean_squared_error\n",
    "import seaborn as sns\n",
    "pd.set_option('max_columns', None)\n",
    "%matplotlib inline"
   ]
  },
  {
   "cell_type": "markdown",
   "metadata": {},
   "source": [
    "open and consolidate data"
   ]
  },
  {
   "cell_type": "code",
   "execution_count": 69,
   "metadata": {},
   "outputs": [],
   "source": [
    "# Open calendar and listings data\n",
    "boston_calendar = pd.read_csv(\"boston_airbnb_data/calendar.csv\")\n",
    "boston_listings = pd.read_csv(\"boston_airbnb_data/listings.csv\")"
   ]
  },
  {
   "cell_type": "code",
   "execution_count": 70,
   "metadata": {},
   "outputs": [],
   "source": [
    "# Drop price column because we don't need it for our analysis\n",
    "boston_calendar = boston_calendar.drop('price', axis=1)\n",
    "# Get one column for each variable on for t(true) and one for f(false)\n",
    "boston_calendar = pd.concat([boston_calendar.drop('available', axis=1), pd.get_dummies(boston_calendar['available'], prefix='available', prefix_sep='_')], axis=1)\n",
    "# Group by each list id by adding the number of times each list_id is available and unavailable\n",
    "boston_occupation = boston_calendar.groupby(\"listing_id\").sum()\n",
    "# Add a column with the occupancy percentage, which is the number of days occupied divided by the total number of days registered\n",
    "boston_occupation[\"occupation_percentage\"] = boston_occupation[\"available_f\"]*100/(boston_occupation[\"available_f\"]+boston_occupation[\"available_t\"])\n",
    "# Transform the output variable occupation_percentage that is continuous to categorical\n",
    "# Define help function\n",
    "def percentage_to_categorical(value):\n",
    "    value = float(value)\n",
    "    if value <= 100 and value >= 80:\n",
    "        return 5\n",
    "    elif value < 80 and value >= 60:\n",
    "        return 4\n",
    "    elif value < 60 and value >= 40:\n",
    "        return 3\n",
    "    elif value < 40 and value >= 20:\n",
    "        return 2\n",
    "    elif value < 20 and value >= 0:\n",
    "        return 1\n",
    "# Apply help function\n",
    "boston_occupation[\"occupation_percentage\"] = boston_occupation[\"occupation_percentage\"].apply(percentage_to_categorical)\n",
    "# Drop columns will no longer be used\n",
    "boston_occupation = boston_occupation.drop([\"available_f\",\"available_t\"], axis=1)"
   ]
  },
  {
   "cell_type": "code",
   "execution_count": 87,
   "metadata": {},
   "outputs": [],
   "source": [
    "# Create a consolidate dataframe with all the airbnb data and the categoric\n",
    "df = pd.merge(boston_listings, boston_occupation,left_on=\"id\",right_on=\"listing_id\", how=\"inner\")"
   ]
  },
  {
   "cell_type": "markdown",
   "metadata": {},
   "source": [
    "Nan analysis"
   ]
  },
  {
   "cell_type": "code",
   "execution_count": 72,
   "metadata": {},
   "outputs": [],
   "source": [
    "# Create a dataframe with the column name and the percent of missing values per column\n",
    "percent_missing = df.isnull().sum()*100/len(df)\n",
    "\n",
    "df_nullrows_percent = pd.DataFrame({'column_name': df.columns,\n",
    "                                 'percent_missing': percent_missing}).reset_index(drop=True)"
   ]
  },
  {
   "cell_type": "code",
   "execution_count": 73,
   "metadata": {},
   "outputs": [
    {
     "data": {
      "text/plain": [
       "(-0.101, 10.0]    62\n",
       "(10.0, 20.0]       7\n",
       "(20.0, 30.0]      11\n",
       "(30.0, 40.0]       5\n",
       "(40.0, 50.0]       2\n",
       "(50.0, 60.0]       1\n",
       "(60.0, 70.0]       1\n",
       "(70.0, 80.0]       2\n",
       "(80.0, 90.0]       0\n",
       "(90.0, 100.0]      5\n",
       "Name: percent_missing, dtype: int64"
      ]
     },
     "execution_count": 73,
     "metadata": {},
     "output_type": "execute_result"
    }
   ],
   "source": [
    "# Number of columns per range of percent missing values\n",
    "df_nullrows_percent[\"percent_missing\"].value_counts(bins=10, sort=False)"
   ]
  },
  {
   "cell_type": "code",
   "execution_count": 74,
   "metadata": {
    "scrolled": true
   },
   "outputs": [
    {
     "data": {
      "text/plain": [
       "array([[<matplotlib.axes._subplots.AxesSubplot object at 0x12E103D0>]],\n",
       "      dtype=object)"
      ]
     },
     "execution_count": 74,
     "metadata": {},
     "output_type": "execute_result"
    },
    {
     "data": {
      "image/png": "[encoded data removed]",
      "text/plain": [
       "<Figure size 432x288 with 1 Axes>"
      ]
     },
     "metadata": {
      "needs_background": "light"
     },
     "output_type": "display_data"
    }
   ],
   "source": [
    "# Histogram of percent missing values\n",
    "df_nullrows_percent.hist()"
   ]
  },
  {
   "cell_type": "markdown",
   "metadata": {},
   "source": [
    "80 of 96 columns (83.3%) have less than 30% of their values miss and 62 of 96 columbs (64.58%) have less than 10% of their value miss. This makes it tempting to want to remove the columns with less than 10% of their values miss, but we do that we will miss all the columns related to reviews, so we are going to drop columns with mora than 30% of their values miss."
   ]
  },
  {
   "cell_type": "code",
   "execution_count": 88,
   "metadata": {},
   "outputs": [],
   "source": [
    "# Obtain the columns name that have less than 30% of their values miss\n",
    "columns_lessthan30 = df_nullrows_percent[df_nullrows_percent[\"percent_missing\"]<30][\"column_name\"].values.tolist()\n",
    "# Filter the dataframe to have only those columns\n",
    "df = df[columns_lessthan30]"
   ]
  },
  {
   "cell_type": "markdown",
   "metadata": {},
   "source": [
    "en base a nuestro plantamiento incial de dividir en 3 dimesiones el analisis vamos a dividr nuestra data en cada una de estas dimensiones con sus correspondientes columnas para limpiarlas y observar la exactitud del modelo de forma individual.\n",
    "\n",
    "dimensiones= host,property, reviews"
   ]
  },
  {
   "cell_type": "markdown",
   "metadata": {},
   "source": [
    "#### Select host related columns"
   ]
  },
  {
   "cell_type": "code",
   "execution_count": 76,
   "metadata": {},
   "outputs": [
    {
     "data": {
      "text/plain": [
       "Index(['id', 'listing_url', 'scrape_id', 'last_scraped', 'name', 'summary',\n",
       "       'space', 'description', 'experiences_offered', 'thumbnail_url',\n",
       "       'medium_url', 'picture_url', 'xl_picture_url', 'host_id', 'host_url',\n",
       "       'host_name', 'host_since', 'host_location', 'host_response_time',\n",
       "       'host_response_rate', 'host_acceptance_rate', 'host_is_superhost',\n",
       "       'host_thumbnail_url', 'host_picture_url', 'host_neighbourhood',\n",
       "       'host_listings_count', 'host_total_listings_count',\n",
       "       'host_verifications', 'host_has_profile_pic', 'host_identity_verified',\n",
       "       'street', 'neighbourhood', 'neighbourhood_cleansed', 'city', 'state',\n",
       "       'zipcode', 'market', 'smart_location', 'country_code', 'country',\n",
       "       'latitude', 'longitude', 'is_location_exact', 'property_type',\n",
       "       'room_type', 'accommodates', 'bathrooms', 'bedrooms', 'beds',\n",
       "       'bed_type', 'amenities', 'price', 'guests_included', 'extra_people',\n",
       "       'minimum_nights', 'maximum_nights', 'calendar_updated',\n",
       "       'availability_30', 'availability_60', 'availability_90',\n",
       "       'availability_365', 'calendar_last_scraped', 'number_of_reviews',\n",
       "       'first_review', 'last_review', 'review_scores_rating',\n",
       "       'review_scores_accuracy', 'review_scores_cleanliness',\n",
       "       'review_scores_checkin', 'review_scores_communication',\n",
       "       'review_scores_location', 'review_scores_value', 'requires_license',\n",
       "       'instant_bookable', 'cancellation_policy',\n",
       "       'require_guest_profile_picture', 'require_guest_phone_verification',\n",
       "       'calculated_host_listings_count', 'reviews_per_month',\n",
       "       'occupation_percentage'],\n",
       "      dtype='object')"
      ]
     },
     "execution_count": 76,
     "metadata": {},
     "output_type": "execute_result"
    }
   ],
   "source": [
    "df.columns"
   ]
  },
  {
   "cell_type": "markdown",
   "metadata": {},
   "source": []
  },
  {
   "cell_type": "code",
   "execution_count": 151,
   "metadata": {},
   "outputs": [],
   "source": [
    "host_columns = [\"occupation_percentage\",\"id\",\"host_id\",\"host_location\",\"host_response_time\",\"host_response_rate\",\"host_acceptance_rate\",\n",
    "           \"host_is_superhost\",\"host_listings_count\",\"host_total_listings_count\",\"host_verifications\",\n",
    "          \"host_has_profile_pic\",\"host_identity_verified\",\"city\",\"calculated_host_listings_count\"]"
   ]
  },
  {
   "cell_type": "code",
   "execution_count": 174,
   "metadata": {},
   "outputs": [],
   "source": [
    "df_host = df[host_columns]"
   ]
  },
  {
   "cell_type": "markdown",
   "metadata": {},
   "source": [
    "Host dimension analysis\n",
    "\n",
    "-For columns host_response_rate and host_acceptance_rate we need to extract the % sign and transform the value to float.\n",
    "\n",
    "-For column host_location we can simplify data by transofrming this column to host in city, en reality for the client the         loction of the host only mater if the host is in the same city so the variable is going to be create\n",
    "\n",
    "-For columns host_verifications we need to check the unique posible values an create a column pero valdition and then assign 1 for those to have that verirication\n",
    "\n",
    "The other column can be proces by get_dummies"
   ]
  },
  {
   "cell_type": "code",
   "execution_count": 175,
   "metadata": {},
   "outputs": [
    {
     "name": "stderr",
     "output_type": "stream",
     "text": [
      "c:\\users\\jordi\\appdata\\local\\programs\\python\\python37-32\\lib\\site-packages\\ipykernel_launcher.py:2: SettingWithCopyWarning: \n",
      "A value is trying to be set on a copy of a slice from a DataFrame.\n",
      "Try using .loc[row_indexer,col_indexer] = value instead\n",
      "\n",
      "See the caveats in the documentation: https://pandas.pydata.org/pandas-docs/stable/user_guide/indexing.html#returning-a-view-versus-a-copy\n",
      "  \n",
      "c:\\users\\jordi\\appdata\\local\\programs\\python\\python37-32\\lib\\site-packages\\ipykernel_launcher.py:3: SettingWithCopyWarning: \n",
      "A value is trying to be set on a copy of a slice from a DataFrame.\n",
      "Try using .loc[row_indexer,col_indexer] = value instead\n",
      "\n",
      "See the caveats in the documentation: https://pandas.pydata.org/pandas-docs/stable/user_guide/indexing.html#returning-a-view-versus-a-copy\n",
      "  This is separate from the ipykernel package so we can avoid doing imports until\n"
     ]
    }
   ],
   "source": [
    "#For columns host_response_rate and host_acceptance_rate we need to extract the % sign and transform the value to float.\n",
    "df_host['host_response_rate'] = df_host['host_response_rate'].str.replace('%', '', regex=False).astype(float)\n",
    "df_host['host_acceptance_rate'] = df_host['host_acceptance_rate'].str.replace('%', '', regex=False).astype(float)"
   ]
  },
  {
   "cell_type": "code",
   "execution_count": 176,
   "metadata": {},
   "outputs": [
    {
     "name": "stderr",
     "output_type": "stream",
     "text": [
      "c:\\users\\jordi\\appdata\\local\\programs\\python\\python37-32\\lib\\site-packages\\ipykernel_launcher.py:13: SettingWithCopyWarning: \n",
      "A value is trying to be set on a copy of a slice from a DataFrame.\n",
      "Try using .loc[row_indexer,col_indexer] = value instead\n",
      "\n",
      "See the caveats in the documentation: https://pandas.pydata.org/pandas-docs/stable/user_guide/indexing.html#returning-a-view-versus-a-copy\n",
      "  del sys.path[0]\n"
     ]
    }
   ],
   "source": [
    "# Create column host_isin_city\n",
    "\n",
    "def host_isin_city(host_location,city):\n",
    "    try:\n",
    "        clean_host_location = host_location.split(\",\")[0]\n",
    "        if clean_host_location == \"Boston\":\n",
    "            return True\n",
    "        else:\n",
    "            return False\n",
    "    except AttributeError:\n",
    "        return np.nan\n",
    "\n",
    "df_host['host_in_city'] = df_host.apply(lambda x: host_isin_city(x.host_location, x.city), axis=1)\n",
    "df_host = df_host.drop([\"host_location\",\"city\"],axis=1)\n",
    "\n",
    "# We can imput values for this column,so rows with nan value in this column is drop\n",
    "df_hostdf = df_host.dropna(subset=['host_in_city'])"
   ]
  },
  {
   "cell_type": "code",
   "execution_count": 177,
   "metadata": {},
   "outputs": [],
   "source": [
    "all_verifications = []\n",
    "all_clean_verifications = []\n",
    "replacements = ['\"',\"'\",\"[\",\"]\"]\n",
    "\n",
    "for index, row in df_host.iterrows():\n",
    "    verifications = row['host_verifications']\n",
    "    for char in replacements:\n",
    "        if char in verifications:\n",
    "            verifications = verifications.replace(char,\"\")\n",
    "            \n",
    "    df_host.loc[index, 'host_verifications'] = verifications\n",
    "    verifications = verifications.split(\",\")\n",
    "    all_verifications += verifications\n",
    "    \n",
    "all_verifications = set(all_verifications)\n",
    "for verification in all_verifications:\n",
    "    if len(verification) != 0:\n",
    "        clean_verification = verification.strip()\n",
    "        all_clean_verifications.append(clean_verification)\n",
    "        \n",
    "# add one columns per clean_verification to the data frame\n",
    "for verification in all_clean_verifications:\n",
    "    df_host[verification] = 0\n",
    "   \n",
    "# add value 1 to correspond column if existe in the column host_verifications\n",
    "for index, row in df_host.iterrows():\n",
    "    verifications = row['host_verifications']\n",
    "    for verification in verifications.split(\",\"):\n",
    "        verification = verification.strip()\n",
    "        if verification in all_clean_verifications:\n",
    "            df_host.loc[index, verification] = 1\n",
    "\n",
    "# Drop host_verifications column because is no longer needed\n",
    "df_host = df_host.drop([\"host_verifications\"], axis=1)"
   ]
  },
  {
   "cell_type": "code",
   "execution_count": 178,
   "metadata": {},
   "outputs": [],
   "source": [
    "# por el momento para avanzar y ver si hace sentido el analisis, no se va a consolidar la información del host\n",
    "# solo se van a eliminar los nan values y despues los duplicados, cada host y cada propuedad tienen diferente vaalor de\n",
    "# ocupacion, por eso vamos a mantener la relacion host propiedad sin eliminar host duplicados"
   ]
  },
  {
   "cell_type": "code",
   "execution_count": 179,
   "metadata": {},
   "outputs": [],
   "source": [
    "# eliminamos los valores con nan porque ahorita no nos interesan y sin pocos, excepcion response time se podria promediar por\n",
    "# host pero por el momento los eliminamos para seguir avanzando y pulir adelante\n",
    "df_host = df_host.dropna()"
   ]
  },
  {
   "cell_type": "code",
   "execution_count": 180,
   "metadata": {},
   "outputs": [],
   "source": [
    "# Create dummi variables for the other categorical columns\n",
    "cat_vars = df_host.select_dtypes(include=['object']).copy().columns\n",
    "for var in  cat_vars:\n",
    "    # for each cat add dummy var, drop original column\n",
    "    df_host = pd.concat([df_host.drop(var, axis=1), pd.get_dummies(df_host[var],prefix=var, prefix_sep='_', drop_first=True)], axis=1)"
   ]
  },
  {
   "cell_type": "code",
   "execution_count": 181,
   "metadata": {},
   "outputs": [],
   "source": [
    "df_ids = df_host[[\"id\",\"host_id\"]]\n",
    "df_host = df_host.drop([\"id\",\"host_id\"],axis=1)\n",
    "\n",
    "#Split data into an X matrix and a response vector y\n",
    "y = df_host['occupation_percentage']\n",
    "x = df_host.drop('occupation_percentage', axis=1)\n",
    "\n",
    "# Split dataset into training set and test set\n",
    "x_train, x_test, y_train, y_test = train_test_split(x, y, test_size=0.3)"
   ]
  },
  {
   "cell_type": "code",
   "execution_count": 203,
   "metadata": {},
   "outputs": [],
   "source": [
    "#Create a Gaussian Classifier\n",
    "rfc=RandomForestClassifier(n_estimators=500)\n",
    "\n",
    "#Train the model using the training sets y_pred=clf.predict(X_test)\n",
    "rfc.fit(x_train,y_train)\n",
    "\n",
    "y_pred=rfc.predict(x_test)"
   ]
  },
  {
   "cell_type": "code",
   "execution_count": 204,
   "metadata": {},
   "outputs": [
    {
     "name": "stdout",
     "output_type": "stream",
     "text": [
      "Accuracy: 0.5042918454935622\n"
     ]
    }
   ],
   "source": [
    "print(\"Accuracy:\",metrics.accuracy_score(y_test, y_pred))"
   ]
  },
  {
   "cell_type": "code",
   "execution_count": 185,
   "metadata": {},
   "outputs": [],
   "source": [
    "feature_importance = pd.Series(rfc.feature_importances_,index=list(x.columns)).sort_values(ascending=False)"
   ]
  },
  {
   "cell_type": "code",
   "execution_count": 186,
   "metadata": {},
   "outputs": [
    {
     "name": "stderr",
     "output_type": "stream",
     "text": [
      "No handles with labels found to put in legend.\n"
     ]
    },
    {
     "data": {
      "image/png": "[encoded data removed]",
      "text/plain": [
       "<Figure size 432x288 with 1 Axes>"
      ]
     },
     "metadata": {
      "needs_background": "light"
     },
     "output_type": "display_data"
    }
   ],
   "source": [
    "# Creating a bar plot\n",
    "sns.barplot(x=feature_importance, y=feature_importance.index)\n",
    "# Add labels to your graph\n",
    "plt.xlabel('Feature Importance Score')\n",
    "plt.ylabel('Features')\n",
    "plt.title(\"Visualizing Important Features\")\n",
    "plt.legend()\n",
    "plt.show()"
   ]
  },
  {
   "cell_type": "code",
   "execution_count": 202,
   "metadata": {},
   "outputs": [
    {
     "data": {
      "text/plain": [
       "1    1259\n",
       "5     873\n",
       "4     348\n",
       "2     334\n",
       "3     292\n",
       "Name: occupation_percentage, dtype: int64"
      ]
     },
     "execution_count": 202,
     "metadata": {},
     "output_type": "execute_result"
    }
   ],
   "source": [
    "y.value_counts()"
   ]
  },
  {
   "cell_type": "code",
   "execution_count": null,
   "metadata": {},
   "outputs": [],
   "source": []
  }
 ],
 "metadata": {
  "kernelspec": {
   "display_name": "Python 3",
   "language": "python",
   "name": "python3"
  },
  "language_info": {
   "codemirror_mode": {
    "name": "ipython",
    "version": 3
   },
   "file_extension": ".py",
   "mimetype": "text/x-python",
   "name": "python",
   "nbconvert_exporter": "python",
   "pygments_lexer": "ipython3",
   "version": "3.7.4"
  }
 },
 "nbformat": 4,
 "nbformat_minor": 2
}
