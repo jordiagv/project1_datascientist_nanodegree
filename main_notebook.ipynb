{
 "cells": [
  {
   "cell_type": "code",
   "execution_count": 3,
   "metadata": {},
   "outputs": [],
   "source": [
    "import pandas as pd\n",
    "import numpy as np"
   ]
  },
  {
   "cell_type": "code",
   "execution_count": 29,
   "metadata": {},
   "outputs": [],
   "source": [
    "# Open boston data\n",
    "boston_calendar = pd.read_csv(\"boston_airbnb_data/calendar.csv\")\n",
    "boston_listings = pd.read_csv(\"boston_airbnb_data/listings.csv\")\n",
    "boston_reviews = pd.read_csv(\"boston_airbnb_data/reviews.csv\")"
   ]
  },
  {
   "cell_type": "code",
   "execution_count": 56,
   "metadata": {},
   "outputs": [],
   "source": [
    "# Open seattle data\n",
    "seattle_calendar = pd.read_csv(\"seattle_airbnb_data/calendar.csv\")\n",
    "seattle_listings = pd.read_csv(\"seattle_airbnb_data/listings.csv\")\n",
    "seattle_reviews = pd.read_csv(\"seattle_airbnb_data/reviews.csv\")"
   ]
  },
  {
   "cell_type": "markdown",
   "metadata": {},
   "source": [
    "### Understanding calendar data for both cities"
   ]
  },
  {
   "cell_type": "code",
   "execution_count": 63,
   "metadata": {},
   "outputs": [
    {
     "name": "stdout",
     "output_type": "stream",
     "text": [
      "Boston calendar data have 4 columns and 1308890 rows and Seattle calendar data have 4 columns and 1393570 rows\n"
     ]
    }
   ],
   "source": [
    "# Quick explore of number of rows and columns of calendar data\n",
    "print(\"Boston calendar data have {} columns and {} rows and Seattle calendar data have {} columns and {} rows\".format(str(boston_calendar.shape[1]),str(boston_calendar.shape[0]),str(seattle_calendar.shape[1]),str(seattle_calendar.shape[0])))"
   ]
  },
  {
   "cell_type": "code",
   "execution_count": 61,
   "metadata": {},
   "outputs": [
    {
     "data": {
      "text/plain": [
       "listing_id     int64\n",
       "date          object\n",
       "available     object\n",
       "price         object\n",
       "dtype: object"
      ]
     },
     "execution_count": 61,
     "metadata": {},
     "output_type": "execute_result"
    }
   ],
   "source": [
    "# Columns and type for boston calendar\n",
    "boston_calendar.dtypes"
   ]
  },
  {
   "cell_type": "code",
   "execution_count": 62,
   "metadata": {},
   "outputs": [
    {
     "data": {
      "text/plain": [
       "listing_id     int64\n",
       "date          object\n",
       "available     object\n",
       "price         object\n",
       "dtype: object"
      ]
     },
     "execution_count": 62,
     "metadata": {},
     "output_type": "execute_result"
    }
   ],
   "source": [
    "# Columns and type for seattle calendar\n",
    "seattle_calendar.dtypes"
   ]
  },
  {
   "cell_type": "code",
   "execution_count": 59,
   "metadata": {},
   "outputs": [
    {
     "data": {
      "text/html": [
       "<div>\n",
       "<style scoped>\n",
       "    .dataframe tbody tr th:only-of-type {\n",
       "        vertical-align: middle;\n",
       "    }\n",
       "\n",
       "    .dataframe tbody tr th {\n",
       "        vertical-align: top;\n",
       "    }\n",
       "\n",
       "    .dataframe thead th {\n",
       "        text-align: right;\n",
       "    }\n",
       "</style>\n",
       "<table border=\"1\" class=\"dataframe\">\n",
       "  <thead>\n",
       "    <tr style=\"text-align: right;\">\n",
       "      <th></th>\n",
       "      <th>listing_id</th>\n",
       "      <th>date</th>\n",
       "      <th>available</th>\n",
       "      <th>price</th>\n",
       "    </tr>\n",
       "  </thead>\n",
       "  <tbody>\n",
       "    <tr>\n",
       "      <th>0</th>\n",
       "      <td>12147973</td>\n",
       "      <td>2017-09-05</td>\n",
       "      <td>f</td>\n",
       "      <td>NaN</td>\n",
       "    </tr>\n",
       "    <tr>\n",
       "      <th>1</th>\n",
       "      <td>12147973</td>\n",
       "      <td>2017-09-04</td>\n",
       "      <td>f</td>\n",
       "      <td>NaN</td>\n",
       "    </tr>\n",
       "    <tr>\n",
       "      <th>2</th>\n",
       "      <td>12147973</td>\n",
       "      <td>2017-09-03</td>\n",
       "      <td>f</td>\n",
       "      <td>NaN</td>\n",
       "    </tr>\n",
       "    <tr>\n",
       "      <th>3</th>\n",
       "      <td>12147973</td>\n",
       "      <td>2017-09-02</td>\n",
       "      <td>f</td>\n",
       "      <td>NaN</td>\n",
       "    </tr>\n",
       "    <tr>\n",
       "      <th>4</th>\n",
       "      <td>12147973</td>\n",
       "      <td>2017-09-01</td>\n",
       "      <td>f</td>\n",
       "      <td>NaN</td>\n",
       "    </tr>\n",
       "  </tbody>\n",
       "</table>\n",
       "</div>"
      ],
      "text/plain": [
       "   listing_id        date available price\n",
       "0    12147973  2017-09-05         f   NaN\n",
       "1    12147973  2017-09-04         f   NaN\n",
       "2    12147973  2017-09-03         f   NaN\n",
       "3    12147973  2017-09-02         f   NaN\n",
       "4    12147973  2017-09-01         f   NaN"
      ]
     },
     "execution_count": 59,
     "metadata": {},
     "output_type": "execute_result"
    }
   ],
   "source": [
    "# Example of boston calendar df\n",
    "boston_calendar.head()"
   ]
  },
  {
   "cell_type": "code",
   "execution_count": 64,
   "metadata": {},
   "outputs": [
    {
     "data": {
      "text/html": [
       "<div>\n",
       "<style scoped>\n",
       "    .dataframe tbody tr th:only-of-type {\n",
       "        vertical-align: middle;\n",
       "    }\n",
       "\n",
       "    .dataframe tbody tr th {\n",
       "        vertical-align: top;\n",
       "    }\n",
       "\n",
       "    .dataframe thead th {\n",
       "        text-align: right;\n",
       "    }\n",
       "</style>\n",
       "<table border=\"1\" class=\"dataframe\">\n",
       "  <thead>\n",
       "    <tr style=\"text-align: right;\">\n",
       "      <th></th>\n",
       "      <th>listing_id</th>\n",
       "      <th>date</th>\n",
       "      <th>available</th>\n",
       "      <th>price</th>\n",
       "    </tr>\n",
       "  </thead>\n",
       "  <tbody>\n",
       "    <tr>\n",
       "      <th>0</th>\n",
       "      <td>241032</td>\n",
       "      <td>2016-01-04</td>\n",
       "      <td>t</td>\n",
       "      <td>$85.00</td>\n",
       "    </tr>\n",
       "    <tr>\n",
       "      <th>1</th>\n",
       "      <td>241032</td>\n",
       "      <td>2016-01-05</td>\n",
       "      <td>t</td>\n",
       "      <td>$85.00</td>\n",
       "    </tr>\n",
       "    <tr>\n",
       "      <th>2</th>\n",
       "      <td>241032</td>\n",
       "      <td>2016-01-06</td>\n",
       "      <td>f</td>\n",
       "      <td>NaN</td>\n",
       "    </tr>\n",
       "    <tr>\n",
       "      <th>3</th>\n",
       "      <td>241032</td>\n",
       "      <td>2016-01-07</td>\n",
       "      <td>f</td>\n",
       "      <td>NaN</td>\n",
       "    </tr>\n",
       "    <tr>\n",
       "      <th>4</th>\n",
       "      <td>241032</td>\n",
       "      <td>2016-01-08</td>\n",
       "      <td>f</td>\n",
       "      <td>NaN</td>\n",
       "    </tr>\n",
       "  </tbody>\n",
       "</table>\n",
       "</div>"
      ],
      "text/plain": [
       "   listing_id        date available   price\n",
       "0      241032  2016-01-04         t  $85.00\n",
       "1      241032  2016-01-05         t  $85.00\n",
       "2      241032  2016-01-06         f     NaN\n",
       "3      241032  2016-01-07         f     NaN\n",
       "4      241032  2016-01-08         f     NaN"
      ]
     },
     "execution_count": 64,
     "metadata": {},
     "output_type": "execute_result"
    }
   ],
   "source": [
    "# Example of seattle calendar df\n",
    "seattle_calendar.head()"
   ]
  },
  {
   "cell_type": "code",
   "execution_count": 81,
   "metadata": {},
   "outputs": [],
   "source": [
    "# Dates are read as string, it is convenient to convert them to datetime format\n",
    "boston_calendar['date'] = pd.to_datetime(boston_calendar['date'], format='%Y-%m-%d')\n",
    "seattle_calendar['date'] = pd.to_datetime(seattle_calendar['date'], format='%Y-%m-%d')"
   ]
  },
  {
   "cell_type": "code",
   "execution_count": 82,
   "metadata": {},
   "outputs": [
    {
     "name": "stdout",
     "output_type": "stream",
     "text": [
      "Boston calendar goes from: 2016-09-06 00:00:00 to 2017-09-05 00:00:00 and Seattle calendar goes from: 2016-01-04 00:00:00 to 2017-01-02 00:00:00\n"
     ]
    }
   ],
   "source": [
    "# Date range for boston and seattle calendar\n",
    "min_date_boston_calendar = boston_calendar[\"date\"].min()\n",
    "max_date_boston_calendar = boston_calendar[\"date\"].max()\n",
    "min_date_seattle_calendar = seattle_calendar[\"date\"].min()\n",
    "max_date_seattle_calendar = seattle_calendar[\"date\"].max()\n",
    "\n",
    "print(\"Boston calendar goes from: {} to {} and Seattle calendar goes from: {} to {}\".format(min_date_boston_calendar,max_date_boston_calendar,min_date_seattle_calendar,max_date_seattle_calendar))"
   ]
  },
  {
   "cell_type": "code",
   "execution_count": null,
   "metadata": {},
   "outputs": [],
   "source": [
    "# Available column have t and f str values referencing true and false (boolean values)"
   ]
  },
  {
   "cell_type": "markdown",
   "metadata": {},
   "source": [
    "Relevant observations:\n",
    "1. Boston calendar dates goes from september 2016 to september 2017 and Seattle calendar dates goes from january 2016 to january 2017.\n",
    "2. \n"
   ]
  },
  {
   "cell_type": "code",
   "execution_count": null,
   "metadata": {},
   "outputs": [],
   "source": []
  }
 ],
 "metadata": {
  "kernelspec": {
   "display_name": "Python 3",
   "language": "python",
   "name": "python3"
  },
  "language_info": {
   "codemirror_mode": {
    "name": "ipython",
    "version": 3
   },
   "file_extension": ".py",
   "mimetype": "text/x-python",
   "name": "python",
   "nbconvert_exporter": "python",
   "pygments_lexer": "ipython3",
   "version": "3.7.4"
  }
 },
 "nbformat": 4,
 "nbformat_minor": 2
}
