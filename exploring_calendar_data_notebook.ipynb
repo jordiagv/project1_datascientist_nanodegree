{
 "cells": [
  {
   "cell_type": "code",
   "execution_count": 21,
   "metadata": {},
   "outputs": [],
   "source": [
    "import pandas as pd\n",
    "import numpy as np"
   ]
  },
  {
   "cell_type": "code",
   "execution_count": 22,
   "metadata": {},
   "outputs": [],
   "source": [
    "# Open boston data\n",
    "boston_calendar = pd.read_csv(\"boston_airbnb_data/calendar.csv\")\n",
    "boston_listings = pd.read_csv(\"boston_airbnb_data/listings.csv\")\n",
    "boston_reviews = pd.read_csv(\"boston_airbnb_data/reviews.csv\")"
   ]
  },
  {
   "cell_type": "code",
   "execution_count": 23,
   "metadata": {},
   "outputs": [],
   "source": [
    "# Open seattle data\n",
    "seattle_calendar = pd.read_csv(\"seattle_airbnb_data/calendar.csv\")\n",
    "seattle_listings = pd.read_csv(\"seattle_airbnb_data/listings.csv\")\n",
    "seattle_reviews = pd.read_csv(\"seattle_airbnb_data/reviews.csv\")"
   ]
  },
  {
   "cell_type": "markdown",
   "metadata": {},
   "source": [
    "### Understanding calendar data for both cities"
   ]
  },
  {
   "cell_type": "code",
   "execution_count": 63,
   "metadata": {},
   "outputs": [
    {
     "name": "stdout",
     "output_type": "stream",
     "text": [
      "Boston calendar data have 4 columns and 1308890 rows and Seattle calendar data have 4 columns and 1393570 rows\n"
     ]
    }
   ],
   "source": [
    "# Quick explore of number of rows and columns of calendar data\n",
    "print(\"Boston calendar data have {} columns and {} rows and Seattle calendar data have {} columns and {} rows\".format(str(boston_calendar.shape[1]),str(boston_calendar.shape[0]),str(seattle_calendar.shape[1]),str(seattle_calendar.shape[0])))"
   ]
  },
  {
   "cell_type": "code",
   "execution_count": 61,
   "metadata": {},
   "outputs": [
    {
     "data": {
      "text/plain": [
       "listing_id     int64\n",
       "date          object\n",
       "available     object\n",
       "price         object\n",
       "dtype: object"
      ]
     },
     "execution_count": 61,
     "metadata": {},
     "output_type": "execute_result"
    }
   ],
   "source": [
    "# Columns and type for boston calendar\n",
    "boston_calendar.dtypes"
   ]
  },
  {
   "cell_type": "code",
   "execution_count": 62,
   "metadata": {},
   "outputs": [
    {
     "data": {
      "text/plain": [
       "listing_id     int64\n",
       "date          object\n",
       "available     object\n",
       "price         object\n",
       "dtype: object"
      ]
     },
     "execution_count": 62,
     "metadata": {},
     "output_type": "execute_result"
    }
   ],
   "source": [
    "# Columns and type for seattle calendar\n",
    "seattle_calendar.dtypes"
   ]
  },
  {
   "cell_type": "code",
   "execution_count": 59,
   "metadata": {},
   "outputs": [
    {
     "data": {
      "text/html": [
       "<div>\n",
       "<style scoped>\n",
       "    .dataframe tbody tr th:only-of-type {\n",
       "        vertical-align: middle;\n",
       "    }\n",
       "\n",
       "    .dataframe tbody tr th {\n",
       "        vertical-align: top;\n",
       "    }\n",
       "\n",
       "    .dataframe thead th {\n",
       "        text-align: right;\n",
       "    }\n",
       "</style>\n",
       "<table border=\"1\" class=\"dataframe\">\n",
       "  <thead>\n",
       "    <tr style=\"text-align: right;\">\n",
       "      <th></th>\n",
       "      <th>listing_id</th>\n",
       "      <th>date</th>\n",
       "      <th>available</th>\n",
       "      <th>price</th>\n",
       "    </tr>\n",
       "  </thead>\n",
       "  <tbody>\n",
       "    <tr>\n",
       "      <th>0</th>\n",
       "      <td>12147973</td>\n",
       "      <td>2017-09-05</td>\n",
       "      <td>f</td>\n",
       "      <td>NaN</td>\n",
       "    </tr>\n",
       "    <tr>\n",
       "      <th>1</th>\n",
       "      <td>12147973</td>\n",
       "      <td>2017-09-04</td>\n",
       "      <td>f</td>\n",
       "      <td>NaN</td>\n",
       "    </tr>\n",
       "    <tr>\n",
       "      <th>2</th>\n",
       "      <td>12147973</td>\n",
       "      <td>2017-09-03</td>\n",
       "      <td>f</td>\n",
       "      <td>NaN</td>\n",
       "    </tr>\n",
       "    <tr>\n",
       "      <th>3</th>\n",
       "      <td>12147973</td>\n",
       "      <td>2017-09-02</td>\n",
       "      <td>f</td>\n",
       "      <td>NaN</td>\n",
       "    </tr>\n",
       "    <tr>\n",
       "      <th>4</th>\n",
       "      <td>12147973</td>\n",
       "      <td>2017-09-01</td>\n",
       "      <td>f</td>\n",
       "      <td>NaN</td>\n",
       "    </tr>\n",
       "  </tbody>\n",
       "</table>\n",
       "</div>"
      ],
      "text/plain": [
       "   listing_id        date available price\n",
       "0    12147973  2017-09-05         f   NaN\n",
       "1    12147973  2017-09-04         f   NaN\n",
       "2    12147973  2017-09-03         f   NaN\n",
       "3    12147973  2017-09-02         f   NaN\n",
       "4    12147973  2017-09-01         f   NaN"
      ]
     },
     "execution_count": 59,
     "metadata": {},
     "output_type": "execute_result"
    }
   ],
   "source": [
    "# Example of boston calendar df\n",
    "boston_calendar.head()"
   ]
  },
  {
   "cell_type": "code",
   "execution_count": 64,
   "metadata": {},
   "outputs": [
    {
     "data": {
      "text/html": [
       "<div>\n",
       "<style scoped>\n",
       "    .dataframe tbody tr th:only-of-type {\n",
       "        vertical-align: middle;\n",
       "    }\n",
       "\n",
       "    .dataframe tbody tr th {\n",
       "        vertical-align: top;\n",
       "    }\n",
       "\n",
       "    .dataframe thead th {\n",
       "        text-align: right;\n",
       "    }\n",
       "</style>\n",
       "<table border=\"1\" class=\"dataframe\">\n",
       "  <thead>\n",
       "    <tr style=\"text-align: right;\">\n",
       "      <th></th>\n",
       "      <th>listing_id</th>\n",
       "      <th>date</th>\n",
       "      <th>available</th>\n",
       "      <th>price</th>\n",
       "    </tr>\n",
       "  </thead>\n",
       "  <tbody>\n",
       "    <tr>\n",
       "      <th>0</th>\n",
       "      <td>241032</td>\n",
       "      <td>2016-01-04</td>\n",
       "      <td>t</td>\n",
       "      <td>$85.00</td>\n",
       "    </tr>\n",
       "    <tr>\n",
       "      <th>1</th>\n",
       "      <td>241032</td>\n",
       "      <td>2016-01-05</td>\n",
       "      <td>t</td>\n",
       "      <td>$85.00</td>\n",
       "    </tr>\n",
       "    <tr>\n",
       "      <th>2</th>\n",
       "      <td>241032</td>\n",
       "      <td>2016-01-06</td>\n",
       "      <td>f</td>\n",
       "      <td>NaN</td>\n",
       "    </tr>\n",
       "    <tr>\n",
       "      <th>3</th>\n",
       "      <td>241032</td>\n",
       "      <td>2016-01-07</td>\n",
       "      <td>f</td>\n",
       "      <td>NaN</td>\n",
       "    </tr>\n",
       "    <tr>\n",
       "      <th>4</th>\n",
       "      <td>241032</td>\n",
       "      <td>2016-01-08</td>\n",
       "      <td>f</td>\n",
       "      <td>NaN</td>\n",
       "    </tr>\n",
       "  </tbody>\n",
       "</table>\n",
       "</div>"
      ],
      "text/plain": [
       "   listing_id        date available   price\n",
       "0      241032  2016-01-04         t  $85.00\n",
       "1      241032  2016-01-05         t  $85.00\n",
       "2      241032  2016-01-06         f     NaN\n",
       "3      241032  2016-01-07         f     NaN\n",
       "4      241032  2016-01-08         f     NaN"
      ]
     },
     "execution_count": 64,
     "metadata": {},
     "output_type": "execute_result"
    }
   ],
   "source": [
    "# Example of seattle calendar df\n",
    "seattle_calendar.head()"
   ]
  },
  {
   "cell_type": "code",
   "execution_count": 6,
   "metadata": {},
   "outputs": [],
   "source": [
    "# Dates are read as string, it is convenient to convert them to datetime format\n",
    "boston_calendar['date'] = pd.to_datetime(boston_calendar['date'], format='%Y-%m-%d')\n",
    "seattle_calendar['date'] = pd.to_datetime(seattle_calendar['date'], format='%Y-%m-%d')"
   ]
  },
  {
   "cell_type": "code",
   "execution_count": 7,
   "metadata": {
    "scrolled": true
   },
   "outputs": [
    {
     "name": "stdout",
     "output_type": "stream",
     "text": [
      "Boston calendar goes from: 2016-09-06 00:00:00 to 2017-09-05 00:00:00 and Seattle calendar goes from: 2016-01-04 00:00:00 to 2017-01-02 00:00:00\n"
     ]
    }
   ],
   "source": [
    "# Date range for boston and seattle calendar\n",
    "min_date_boston_calendar = boston_calendar[\"date\"].min()\n",
    "max_date_boston_calendar = boston_calendar[\"date\"].max()\n",
    "min_date_seattle_calendar = seattle_calendar[\"date\"].min()\n",
    "max_date_seattle_calendar = seattle_calendar[\"date\"].max()\n",
    "\n",
    "print(\"Boston calendar goes from: {} to {} and Seattle calendar goes from: {} to {}\".format(min_date_boston_calendar,max_date_boston_calendar,min_date_seattle_calendar,max_date_seattle_calendar))"
   ]
  },
  {
   "cell_type": "markdown",
   "metadata": {},
   "source": [
    "Relevant observations:\n",
    "1. Boston calendar dates goes from september 2016 to september 2017 and Seattle calendar dates goes from january 2016 to january 2017.\n",
    "2.  Available column have t and f str values referencing true and false (boolean values), it will be left the same because later the categorical variables will be used as dummy variables\n",
    "3. Price column is read as string type due to the dollar sign, later it should become type float\n",
    "4. We can concat both dataframes if we are going to work with data from both cities"
   ]
  },
  {
   "cell_type": "code",
   "execution_count": 12,
   "metadata": {},
   "outputs": [
    {
     "data": {
      "text/plain": [
       "Index(['listing_id', 'id', 'date', 'reviewer_id', 'reviewer_name', 'comments'], dtype='object')"
      ]
     },
     "execution_count": 12,
     "metadata": {},
     "output_type": "execute_result"
    }
   ],
   "source": [
    "boston_reviews.columns"
   ]
  },
  {
   "cell_type": "code",
   "execution_count": 39,
   "metadata": {},
   "outputs": [
    {
     "data": {
      "text/plain": [
       "'Perry was a wonderful host (familiar with the area and had great suggestions for things to do).  The accommodations were luxurious and pristine.  Highly recommend!'"
      ]
     },
     "execution_count": 39,
     "metadata": {},
     "output_type": "execute_result"
    }
   ],
   "source": [
    "boston_reviews.iloc[1001,5]"
   ]
  },
  {
   "cell_type": "code",
   "execution_count": 34,
   "metadata": {},
   "outputs": [
    {
     "name": "stdout",
     "output_type": "stream",
     "text": [
      "{'instant_bookable', 'interaction', 'cancellation_policy', 'last_review', 'calculated_host_listings_count', 'scrape_id', 'review_scores_value', 'beds', 'weekly_price', 'host_neighbourhood', 'monthly_price', 'host_since', 'number_of_reviews', 'review_scores_accuracy', 'is_location_exact', 'host_verifications', 'id', 'calendar_updated', 'reviews_per_month', 'host_has_profile_pic', 'guests_included', 'price', 'host_name', 'transit', 'review_scores_rating', 'medium_url', 'property_type', 'require_guest_profile_picture', 'neighborhood_overview', 'description', 'security_deposit', 'availability_90', 'neighbourhood_group_cleansed', 'host_response_time', 'thumbnail_url', 'jurisdiction_names', 'bedrooms', 'maximum_nights', 'minimum_nights', 'review_scores_communication', 'require_guest_phone_verification', 'name', 'host_acceptance_rate', 'bathrooms', 'market', 'extra_people', 'state', 'country_code', 'summary', 'review_scores_location', 'square_feet', 'host_is_superhost', 'host_listings_count', 'license', 'host_id', 'host_location', 'smart_location', 'zipcode', 'accommodates', 'house_rules', 'listing_url', 'availability_365', 'xl_picture_url', 'availability_60', 'room_type', 'has_availability', 'latitude', 'neighbourhood', 'requires_license', 'street', 'calendar_last_scraped', 'city', 'access', 'host_picture_url', 'host_url', 'host_total_listings_count', 'host_response_rate', 'first_review', 'experiences_offered', 'review_scores_checkin', 'bed_type', 'host_thumbnail_url', 'review_scores_cleanliness', 'neighbourhood_cleansed', 'amenities', 'availability_30', 'last_scraped', 'space', 'longitude', 'host_identity_verified', 'notes', 'picture_url', 'host_about', 'country', 'cleaning_fee'}\n"
     ]
    }
   ],
   "source": [
    "print(set(boston_listings.columns))"
   ]
  },
  {
   "cell_type": "code",
   "execution_count": 38,
   "metadata": {},
   "outputs": [
    {
     "name": "stdout",
     "output_type": "stream",
     "text": [
      "{nan, 'You will have access to 2 bedrooms, a living room, kitchen, bathrooms, and yard.', 1, nan, 31303940, 12147973, 4, -71.13306792912681, 1.5, 'We are country and city connecting in our deck and garden. Enjoy our music room, books and flat screen TV with the pastoral backyard of hens, bees, rabbits and an organic garden.  ', 2.0, 3.0, nan, nan, 0, nan, 't', 'https://a2.muscache.com/im/pictures/c0842db1-ee98-4fe8-870b-d1e2af33855d.jpg?aki_policy=x_large', 'The house has an open and cozy feel at the same time.  The living room has a flat screen TV.  The kitchen has all you need for cooking.  We prefer you buy your food but can use the organic oils, herbs, etc.   The yard can be seen from sitting room and when the weather allows, the yard is a place children can lose themselves in a safe way.  We have 2 bee hives, 6 hens fenced in (sometimes they get out of their coop area & into the yard), 2 rabbits in a hutch and play structure.', nan, 'Roslindale', nan, nan, 'Sunny Bungalow in the City', nan, nan, nan, nan, 'Boston', nan, nan, 'none', 'https://a2.muscache.com/im/pictures/c0842db1-ee98-4fe8-870b-d1e2af33855d.jpg?aki_policy=medium', '$250.00', 20160906204935, 'f', 'https://a2.muscache.com/im/pictures/5936fef0-ba16-45bd-ac33-9226137d0763.jpg?aki_policy=profile_x_medium', 'Cozy, sunny, family home.  Master bedroom high ceilings. Deck, garden with hens, beehives & play structure.   Short walk to charming village with  attractive stores, groceries & local restaurants. Friendly neighborhood. Access public transportation.', \"Clean up and treat the home the way you'd like your home to be treated.  No smoking.\", 'Virginia', 'MA', '2016-09-06', 'Real Bed', 'US', '02131', \"Roslindale is quiet, convenient and friendly.  For Southern food try Redd's in Rozzie.  Italian Delfino's or Sophia's Grotto are great. Birch St Bistro has nice atmostphere--a little pricier.   If you are cooking the Fish Market has fresh fish daily; Tony's makes his own sausages and has Italian foods;  for  a wide variety of delicious cheeses and chocolates go to the Cheese Cellar on Birch St.\", '2015-04-15', 'https://a2.muscache.com/im/pictures/c0842db1-ee98-4fe8-870b-d1e2af33855d.jpg?aki_policy=large', '2 weeks ago', '2016-09-07', 'Birch Street, Boston, MA 02131, United States', \"['email', 'phone', 'facebook', 'reviews']\", 'House', '$35.00', '$0.00', 'https://www.airbnb.com/users/show/31303940', 'Boston, Massachusetts, United States', 'https://a2.muscache.com/im/pictures/5936fef0-ba16-45bd-ac33-9226137d0763.jpg?aki_policy=profile_small', 'The bus stop is 2 blocks away, and frequent. Bus is about a 10 minute ride to the Orange line, forest hills. The commuter rail into down town is a 6 minute walk from our home.  Walking is pleasant and restaurants, shops and grocery store are all a 6 minute walk away.', 1125, '{TV,\"Wireless Internet\",Kitchen,\"Free Parking on Premises\",\"Pets live on this property\",Dog(s),Heating,\"Family/Kid Friendly\",Washer,Dryer,\"Smoke Detector\",\"Fire Extinguisher\",Essentials,Shampoo,\"Laptop Friendly Workspace\"}', 'United States', 'https://www.airbnb.com/rooms/12147973', 'Entire home/apt', 42.28261879577949, 'moderate', 'https://a2.muscache.com/im/pictures/c0842db1-ee98-4fe8-870b-d1e2af33855d.jpg?aki_policy=small', 'Boston, MA', \"Cozy, sunny, family home.  Master bedroom high ceilings. Deck, garden with hens, beehives & play structure.   Short walk to charming village with  attractive stores, groceries & local restaurants. Friendly neighborhood. Access public transportation. The house has an open and cozy feel at the same time.  The living room has a flat screen TV.  The kitchen has all you need for cooking.  We prefer you buy your food but can use the organic oils, herbs, etc.   The yard can be seen from sitting room and when the weather allows, the yard is a place children can lose themselves in a safe way.  We have 2 bee hives, 6 hens fenced in (sometimes they get out of their coop area & into the yard), 2 rabbits in a hutch and play structure. You will have access to 2 bedrooms, a living room, kitchen, bathrooms, and yard. Roslindale is quiet, convenient and friendly.  For Southern food try Redd's in Rozzie.  Italian Delfino's or Sophia's Grotto are great. Birch St Bistro has nice atmostphere--a little pric\"}\n"
     ]
    }
   ],
   "source": [
    "print(set(boston_listings.iloc[0,:]))"
   ]
  },
  {
   "cell_type": "code",
   "execution_count": null,
   "metadata": {},
   "outputs": [],
   "source": []
  }
 ],
 "metadata": {
  "kernelspec": {
   "display_name": "Python 3",
   "language": "python",
   "name": "python3"
  },
  "language_info": {
   "codemirror_mode": {
    "name": "ipython",
    "version": 3
   },
   "file_extension": ".py",
   "mimetype": "text/x-python",
   "name": "python",
   "nbconvert_exporter": "python",
   "pygments_lexer": "ipython3",
   "version": "3.7.4"
  }
 },
 "nbformat": 4,
 "nbformat_minor": 2
}
