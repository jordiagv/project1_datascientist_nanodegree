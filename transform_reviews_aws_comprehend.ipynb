{
 "cells": [
  {
   "cell_type": "code",
   "execution_count": 1,
   "metadata": {},
   "outputs": [],
   "source": [
    "import pandas as pd\n",
    "import numpy as np\n",
    "import math\n",
    "import matplotlib.pyplot as plt\n",
    "import boto3"
   ]
  },
  {
   "cell_type": "code",
   "execution_count": 2,
   "metadata": {},
   "outputs": [],
   "source": [
    "# Open calendar and listings data\n",
    "boston_reviews = pd.read_csv(\"boston_airbnb_data/reviews.csv\")"
   ]
  },
  {
   "cell_type": "code",
   "execution_count": 14,
   "metadata": {},
   "outputs": [],
   "source": [
    "# Create a connection to amazon comprehend service\n",
    "client = boto3.client('comprehend')"
   ]
  },
  {
   "cell_type": "code",
   "execution_count": 15,
   "metadata": {},
   "outputs": [],
   "source": [
    "def sentiment_comments_todf(df,client):\n",
    "    '''\n",
    "    INPUT\n",
    "    df - Boston reviews dataframe\n",
    "    client - Boto3 comprehend client\n",
    "    \n",
    "    OUTPUT\n",
    "    mean_df - A dataframe with the mean sentiment score per property\n",
    "    '''\n",
    "    result_dict = {}\n",
    "    size = len(df)\n",
    "    general_count,correct_count,fail_count = 1,1,1\n",
    "    for index, row in df.iterrows():\n",
    "        general_percentage = round(general_count*100/size,2)\n",
    "        correct_percentage =round(correct_count*100/general_count,2)\n",
    "        fail_percentage = round(fail_count*100/general_count,2)\n",
    "        print(\"Progress:{}%, Correct:{}%, Fail:{}% ............\".format(general_percentage,correct_percentage,\n",
    "                                                                        fail_percentage),end='\\r')\n",
    "        general_count += 1\n",
    "        # Extract listing id and comment from row\n",
    "        listing_id = row[0]\n",
    "        comment = row[5]\n",
    "        # Use aws comprehend to extract the sentiment of the comment\n",
    "        try:\n",
    "            # Use aws comprehend to detect the sentiment of the select comment\n",
    "            response = client.detect_sentiment(Text=comment,LanguageCode='en')\n",
    "            # Add data to the dictionary\n",
    "            if listing_id not in result_dict.keys():\n",
    "                result_dict[listing_id]={\"Positive\":[response[\"SentimentScore\"][\"Positive\"]],\n",
    "                                         \"Negative\":[response[\"SentimentScore\"][\"Negative\"]],\n",
    "                                         \"Neutral\":[response[\"SentimentScore\"][\"Neutral\"]],\n",
    "                                         \"Mixed\":[response[\"SentimentScore\"][\"Mixed\"]]}\n",
    "            else:\n",
    "                result_dict[listing_id][\"Positive\"].append(response[\"SentimentScore\"][\"Positive\"])\n",
    "                result_dict[listing_id][\"Negative\"].append(response[\"SentimentScore\"][\"Negative\"])\n",
    "                result_dict[listing_id][\"Neutral\"].append(response[\"SentimentScore\"][\"Neutral\"])\n",
    "                result_dict[listing_id][\"Mixed\"].append(response[\"SentimentScore\"][\"Mixed\"])\n",
    "\n",
    "            correct_count += 1\n",
    "        except:\n",
    "            fail_count += 1\n",
    "            continue\n",
    "            \n",
    "    resume_dict = {}\n",
    "    # Obtain the mean of each sentiment per property\n",
    "    for listing_id in result_dict.keys():\n",
    "        mean_positive = round(sum(result_dict[listing_id][\"Positive\"])*100/len(result_dict[listing_id][\"Positive\"]),2)\n",
    "        mean_negative = round(sum(result_dict[listing_id][\"Negative\"])*100/len(result_dict[listing_id][\"Negative\"]),2)\n",
    "        mean_neutral = round(sum(result_dict[listing_id][\"Neutral\"])*100/len(result_dict[listing_id][\"Neutral\"]),2)\n",
    "        mean_mixed = round(sum(result_dict[listing_id][\"Mixed\"])*100/len(result_dict[listing_id][\"Mixed\"]),2)\n",
    "        number_reviews = len(result_dict[listing_id][\"Positive\"])\n",
    "\n",
    "        resume_dict[listing_id]={\"mean_positive\":mean_positive,\"mean_negative\":mean_negative,\"mean_neutral\":mean_neutral,\n",
    "                                \"mean_mixed\":mean_mixed,\"number_reviews\":number_reviews}\n",
    "        \n",
    "    # Transform the dictionary with sentiment by property to dataframe  \n",
    "    mean_df = pd.DataFrame.from_dict(resume_dict,orient='index')\n",
    "    mean_df.index.name = 'listing_id'\n",
    "    # Save the dataframe as a csv file\n",
    "    mean_df.to_csv(\"mean_sentiment_comments.csv\") \n",
    "    \n",
    "    return mean_df"
   ]
  },
  {
   "cell_type": "code",
   "execution_count": 16,
   "metadata": {},
   "outputs": [
    {
     "name": "stdout",
     "output_type": "stream",
     "text": [
      "Progress:100.0%, Correct:99.92%, Fail:0.08% ............\r"
     ]
    }
   ],
   "source": [
    "mean_df = sentiment_comments_todf(boston_reviews,client)"
   ]
  }
 ],
 "metadata": {
  "kernelspec": {
   "display_name": "Python 3",
   "language": "python",
   "name": "python3"
  },
  "language_info": {
   "codemirror_mode": {
    "name": "ipython",
    "version": 3
   },
   "file_extension": ".py",
   "mimetype": "text/x-python",
   "name": "python",
   "nbconvert_exporter": "python",
   "pygments_lexer": "ipython3",
   "version": "3.7.4"
  }
 },
 "nbformat": 4,
 "nbformat_minor": 2
}
